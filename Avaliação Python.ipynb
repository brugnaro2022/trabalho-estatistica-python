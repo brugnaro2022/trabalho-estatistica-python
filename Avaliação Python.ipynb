{
 "cells": [
  {
   "cell_type": "code",
   "execution_count": 7,
   "id": "32172743",
   "metadata": {},
   "outputs": [
    {
     "data": {
      "text/plain": [
       "array([[ 0,  1,  2,  3],\n",
       "       [ 4,  5,  6,  7],\n",
       "       [ 8,  9, 10, 11],\n",
       "       [12, 13, 14, 15],\n",
       "       [16, 17, 18, 19]])"
      ]
     },
     "execution_count": 7,
     "metadata": {},
     "output_type": "execute_result"
    }
   ],
   "source": [
    "import numpy as np\n",
    "\n",
    "a = [[ 0,  1,  2,  3],\n",
    "       [ 4,  5,  6,  7],\n",
    "       [ 8,  9, 10, 11],\n",
    "       [12, 13, 14, 15],\n",
    "       [16, 17, 18, 19]]\n",
    "\n",
    "b = np.array(a)\n",
    "b"
   ]
  },
  {
   "cell_type": "code",
   "execution_count": 9,
   "id": "d99c0fad",
   "metadata": {},
   "outputs": [
    {
     "data": {
      "text/plain": [
       "array([[ 1,  2],\n",
       "       [ 5,  6],\n",
       "       [ 9, 10],\n",
       "       [13, 14],\n",
       "       [17, 18]])"
      ]
     },
     "execution_count": 9,
     "metadata": {},
     "output_type": "execute_result"
    }
   ],
   "source": [
    "#01 [:,1:3]\n",
    "#02 df[df['Curso'] == 'Matemática']['Nome', 'Nota']\n",
    "#03 Verdadeiro\n",
    "#04 np.arange(1, 10, 1).reshape(3,3)\n",
    "#05 df['Câmpus'].groupby(df['Nota']).mean()\n",
    "#06 df['Câmpus'].drop_duplicates().count()\n",
    "\n",
    "#07\n",
    "#np.arange(5) array([0, 1, 2, 3, 4])\n",
    "#np.linspace(0, 20, 5) array([ 0.,  5., 10., 15., 20.])\n",
    "#np.arange(10,15) [10, 11, 12, 13, 14]\n",
    "\n",
    "#08 Seleciona a terceira coluna pela posição de um inteiro.\n",
    "\n",
    "#09\n",
    "#a = np.arange(5)\n",
    "\n",
    "#a.max() 4\n",
    "\n",
    "# a.sum() 10\n",
    "\n",
    "#a.mean() 2.0\n",
    "\n",
    "# Respostas duplicadas\n",
    "\n",
    "#10 Verdadeiro"
   ]
  },
  {
   "cell_type": "code",
   "execution_count": null,
   "id": "8629266b",
   "metadata": {},
   "outputs": [],
   "source": [
    "#02 df[df['Curso'] == 'Matemática']['Nome', 'Nota']"
   ]
  },
  {
   "cell_type": "code",
   "execution_count": null,
   "id": "117fcafd",
   "metadata": {},
   "outputs": [],
   "source": [
    "#03 Verdadeiro"
   ]
  },
  {
   "cell_type": "code",
   "execution_count": 16,
   "id": "70629dba",
   "metadata": {},
   "outputs": [
    {
     "data": {
      "text/plain": [
       "array([[1, 2, 3],\n",
       "       [4, 5, 6],\n",
       "       [7, 8, 9]])"
      ]
     },
     "execution_count": 16,
     "metadata": {},
     "output_type": "execute_result"
    }
   ],
   "source": [
    "#04\n",
    "np.arange(1, 10, 1).reshape(3,3)"
   ]
  },
  {
   "cell_type": "code",
   "execution_count": null,
   "id": "4127ae84",
   "metadata": {},
   "outputs": [],
   "source": [
    "#05\n",
    "df['Câmpus'].groupby(df['Nota']).mean()"
   ]
  },
  {
   "cell_type": "code",
   "execution_count": null,
   "id": "9df77380",
   "metadata": {},
   "outputs": [],
   "source": [
    "#06 df['Câmpus'].drop_duplicates().count()"
   ]
  },
  {
   "cell_type": "code",
   "execution_count": 22,
   "id": "1036fca2",
   "metadata": {},
   "outputs": [
    {
     "data": {
      "text/plain": [
       "array([0, 1, 2, 3, 4])"
      ]
     },
     "execution_count": 22,
     "metadata": {},
     "output_type": "execute_result"
    }
   ],
   "source": [
    "#07\n",
    "#np.arange(5) array([0, 1, 2, 3, 4])\n",
    "#np.linspace(0, 20, 5) array([ 0.,  5., 10., 15., 20.])\n",
    "#np.arange(10,15) [10, 11, 12, 13, 14]\n",
    "\n",
    "array([0, 1, 2, 3, 4]), array([ 0.,  5., 10., 15., 20.]) e array([10, 11, 12, 13, 14])"
   ]
  },
  {
   "cell_type": "code",
   "execution_count": null,
   "id": "9a9a87dd",
   "metadata": {},
   "outputs": [],
   "source": [
    "#08\n",
    "Seleciona a terceira coluna pela posição de um inteiro."
   ]
  },
  {
   "cell_type": "code",
   "execution_count": 28,
   "id": "e980d682",
   "metadata": {},
   "outputs": [
    {
     "data": {
      "text/plain": [
       "2.0"
      ]
     },
     "execution_count": 28,
     "metadata": {},
     "output_type": "execute_result"
    }
   ],
   "source": [
    "#09\n",
    "#a = np.arange(5)\n",
    "\n",
    "#a.max() 4\n",
    "\n",
    "# a.sum() 10\n",
    "\n",
    "#a.mean() 2.0\n",
    "\n",
    "# Respostas duplicadas"
   ]
  },
  {
   "cell_type": "code",
   "execution_count": null,
   "id": "f20102cd",
   "metadata": {},
   "outputs": [],
   "source": [
    "#10\n",
    "Verdadeiro"
   ]
  }
 ],
 "metadata": {
  "kernelspec": {
   "display_name": "Python 3 (ipykernel)",
   "language": "python",
   "name": "python3"
  },
  "language_info": {
   "codemirror_mode": {
    "name": "ipython",
    "version": 3
   },
   "file_extension": ".py",
   "mimetype": "text/x-python",
   "name": "python",
   "nbconvert_exporter": "python",
   "pygments_lexer": "ipython3",
   "version": "3.9.12"
  }
 },
 "nbformat": 4,
 "nbformat_minor": 5
}
