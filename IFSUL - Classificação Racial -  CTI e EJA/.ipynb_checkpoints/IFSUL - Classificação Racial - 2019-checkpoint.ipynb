{
 "cells": [
  {
   "cell_type": "markdown",
   "id": "e425ef6e",
   "metadata": {},
   "source": [
    "### Leitura dos microdados 2019 - Data de atualização: 15/09/2020:"
   ]
  },
  {
   "cell_type": "code",
   "execution_count": 1,
   "id": "86d47dc4",
   "metadata": {},
   "outputs": [
    {
     "data": {
      "text/html": [
       "<div>\n",
       "<style scoped>\n",
       "    .dataframe tbody tr th:only-of-type {\n",
       "        vertical-align: middle;\n",
       "    }\n",
       "\n",
       "    .dataframe tbody tr th {\n",
       "        vertical-align: top;\n",
       "    }\n",
       "\n",
       "    .dataframe thead th {\n",
       "        text-align: right;\n",
       "    }\n",
       "</style>\n",
       "<table border=\"1\" class=\"dataframe\">\n",
       "  <thead>\n",
       "    <tr style=\"text-align: right;\">\n",
       "      <th></th>\n",
       "      <th>Teste</th>\n",
       "      <th>Carga Horaria</th>\n",
       "      <th>Carga Horaria Minima</th>\n",
       "      <th>Categoria da Situação</th>\n",
       "      <th>Código do Ciclo Matricula</th>\n",
       "      <th>Código da Matricula</th>\n",
       "      <th>Código da Unidade de Ensino - SISTEC</th>\n",
       "      <th>Cod Unidade</th>\n",
       "      <th>Cor / Raça</th>\n",
       "      <th>Data de Inicio do Ciclo</th>\n",
       "      <th>...</th>\n",
       "      <th>Vagas Extraordinárias l9</th>\n",
       "      <th>Vagas Regulares AC</th>\n",
       "      <th>Vagas Regulares l10</th>\n",
       "      <th>Vagas Regulares l13</th>\n",
       "      <th>Vagas Regulares l14</th>\n",
       "      <th>Vagas Regulares l1</th>\n",
       "      <th>Vagas Regulares l2</th>\n",
       "      <th>Vagas Regulares l5</th>\n",
       "      <th>Vagas Regulares l6</th>\n",
       "      <th>Vagas Regulares l9</th>\n",
       "    </tr>\n",
       "  </thead>\n",
       "  <tbody>\n",
       "    <tr>\n",
       "      <th>0</th>\n",
       "      <td>1</td>\n",
       "      <td>4535</td>\n",
       "      <td>3600</td>\n",
       "      <td>Concluintes</td>\n",
       "      <td>1978481</td>\n",
       "      <td>64063592</td>\n",
       "      <td>3483</td>\n",
       "      <td>147</td>\n",
       "      <td>Não declarada</td>\n",
       "      <td>20/02/2015</td>\n",
       "      <td>...</td>\n",
       "      <td>0.0</td>\n",
       "      <td>17.0</td>\n",
       "      <td>0.0</td>\n",
       "      <td>0.0</td>\n",
       "      <td>0.0</td>\n",
       "      <td>2.0</td>\n",
       "      <td>7.0</td>\n",
       "      <td>2.0</td>\n",
       "      <td>7.0</td>\n",
       "      <td>0.0</td>\n",
       "    </tr>\n",
       "    <tr>\n",
       "      <th>1</th>\n",
       "      <td>1</td>\n",
       "      <td>4535</td>\n",
       "      <td>3600</td>\n",
       "      <td>Em curso</td>\n",
       "      <td>1978481</td>\n",
       "      <td>64063608</td>\n",
       "      <td>3483</td>\n",
       "      <td>147</td>\n",
       "      <td>Não declarada</td>\n",
       "      <td>20/02/2015</td>\n",
       "      <td>...</td>\n",
       "      <td>0.0</td>\n",
       "      <td>17.0</td>\n",
       "      <td>0.0</td>\n",
       "      <td>0.0</td>\n",
       "      <td>0.0</td>\n",
       "      <td>2.0</td>\n",
       "      <td>7.0</td>\n",
       "      <td>2.0</td>\n",
       "      <td>7.0</td>\n",
       "      <td>0.0</td>\n",
       "    </tr>\n",
       "    <tr>\n",
       "      <th>2</th>\n",
       "      <td>1</td>\n",
       "      <td>4535</td>\n",
       "      <td>3600</td>\n",
       "      <td>Em curso</td>\n",
       "      <td>1978481</td>\n",
       "      <td>64063640</td>\n",
       "      <td>3483</td>\n",
       "      <td>147</td>\n",
       "      <td>Não declarada</td>\n",
       "      <td>20/02/2015</td>\n",
       "      <td>...</td>\n",
       "      <td>0.0</td>\n",
       "      <td>17.0</td>\n",
       "      <td>0.0</td>\n",
       "      <td>0.0</td>\n",
       "      <td>0.0</td>\n",
       "      <td>2.0</td>\n",
       "      <td>7.0</td>\n",
       "      <td>2.0</td>\n",
       "      <td>7.0</td>\n",
       "      <td>0.0</td>\n",
       "    </tr>\n",
       "    <tr>\n",
       "      <th>3</th>\n",
       "      <td>1</td>\n",
       "      <td>4535</td>\n",
       "      <td>3600</td>\n",
       "      <td>Em curso</td>\n",
       "      <td>1978481</td>\n",
       "      <td>64063638</td>\n",
       "      <td>3483</td>\n",
       "      <td>147</td>\n",
       "      <td>Não declarada</td>\n",
       "      <td>20/02/2015</td>\n",
       "      <td>...</td>\n",
       "      <td>0.0</td>\n",
       "      <td>17.0</td>\n",
       "      <td>0.0</td>\n",
       "      <td>0.0</td>\n",
       "      <td>0.0</td>\n",
       "      <td>2.0</td>\n",
       "      <td>7.0</td>\n",
       "      <td>2.0</td>\n",
       "      <td>7.0</td>\n",
       "      <td>0.0</td>\n",
       "    </tr>\n",
       "    <tr>\n",
       "      <th>4</th>\n",
       "      <td>1</td>\n",
       "      <td>4535</td>\n",
       "      <td>3600</td>\n",
       "      <td>Em curso</td>\n",
       "      <td>1978481</td>\n",
       "      <td>64063630</td>\n",
       "      <td>3483</td>\n",
       "      <td>147</td>\n",
       "      <td>Não declarada</td>\n",
       "      <td>20/02/2015</td>\n",
       "      <td>...</td>\n",
       "      <td>0.0</td>\n",
       "      <td>17.0</td>\n",
       "      <td>0.0</td>\n",
       "      <td>0.0</td>\n",
       "      <td>0.0</td>\n",
       "      <td>2.0</td>\n",
       "      <td>7.0</td>\n",
       "      <td>2.0</td>\n",
       "      <td>7.0</td>\n",
       "      <td>0.0</td>\n",
       "    </tr>\n",
       "  </tbody>\n",
       "</table>\n",
       "<p>5 rows × 54 columns</p>\n",
       "</div>"
      ],
      "text/plain": [
       "   Teste  Carga Horaria  Carga Horaria Minima Categoria da Situação  \\\n",
       "0      1           4535                  3600           Concluintes   \n",
       "1      1           4535                  3600              Em curso   \n",
       "2      1           4535                  3600              Em curso   \n",
       "3      1           4535                  3600              Em curso   \n",
       "4      1           4535                  3600              Em curso   \n",
       "\n",
       "   Código do Ciclo Matricula  Código da Matricula  \\\n",
       "0                    1978481             64063592   \n",
       "1                    1978481             64063608   \n",
       "2                    1978481             64063640   \n",
       "3                    1978481             64063638   \n",
       "4                    1978481             64063630   \n",
       "\n",
       "   Código da Unidade de Ensino - SISTEC  Cod Unidade     Cor / Raça  \\\n",
       "0                                  3483          147  Não declarada   \n",
       "1                                  3483          147  Não declarada   \n",
       "2                                  3483          147  Não declarada   \n",
       "3                                  3483          147  Não declarada   \n",
       "4                                  3483          147  Não declarada   \n",
       "\n",
       "  Data de Inicio do Ciclo  ... Vagas Extraordinárias l9 Vagas Regulares AC  \\\n",
       "0              20/02/2015  ...                      0.0               17.0   \n",
       "1              20/02/2015  ...                      0.0               17.0   \n",
       "2              20/02/2015  ...                      0.0               17.0   \n",
       "3              20/02/2015  ...                      0.0               17.0   \n",
       "4              20/02/2015  ...                      0.0               17.0   \n",
       "\n",
       "  Vagas Regulares l10 Vagas Regulares l13 Vagas Regulares l14  \\\n",
       "0                 0.0                 0.0                 0.0   \n",
       "1                 0.0                 0.0                 0.0   \n",
       "2                 0.0                 0.0                 0.0   \n",
       "3                 0.0                 0.0                 0.0   \n",
       "4                 0.0                 0.0                 0.0   \n",
       "\n",
       "  Vagas Regulares l1  Vagas Regulares l2  Vagas Regulares l5  \\\n",
       "0                2.0                 7.0                 2.0   \n",
       "1                2.0                 7.0                 2.0   \n",
       "2                2.0                 7.0                 2.0   \n",
       "3                2.0                 7.0                 2.0   \n",
       "4                2.0                 7.0                 2.0   \n",
       "\n",
       "  Vagas Regulares l6 Vagas Regulares l9  \n",
       "0                7.0                0.0  \n",
       "1                7.0                0.0  \n",
       "2                7.0                0.0  \n",
       "3                7.0                0.0  \n",
       "4                7.0                0.0  \n",
       "\n",
       "[5 rows x 54 columns]"
      ]
     },
     "execution_count": 1,
     "metadata": {},
     "output_type": "execute_result"
    }
   ],
   "source": [
    "import pandas as pd\n",
    "\n",
    "df_2019 = pd.read_csv('../microdados_matriculas_2019.csv', sep=';')\n",
    "\n",
    "df_2019.head()"
   ]
  },
  {
   "cell_type": "markdown",
   "id": "8b22d974",
   "metadata": {},
   "source": [
    "### Verificando nome das colunas:"
   ]
  },
  {
   "cell_type": "code",
   "execution_count": 2,
   "id": "eab7b9f8",
   "metadata": {},
   "outputs": [
    {
     "data": {
      "text/plain": [
       "['Teste',\n",
       " 'Carga Horaria',\n",
       " 'Carga Horaria Minima',\n",
       " 'Categoria da Situação',\n",
       " 'Código do Ciclo Matricula',\n",
       " 'Código da Matricula',\n",
       " 'Código da Unidade de Ensino - SISTEC',\n",
       " 'Cod Unidade',\n",
       " 'Cor / Raça',\n",
       " 'Data de Inicio do Ciclo',\n",
       " 'Data de Fim Previsto do Ciclo',\n",
       " 'Data de Ocorrencia da Matricula',\n",
       " 'Eixo Tecnológico',\n",
       " 'Faixa Etária',\n",
       " 'Fator Esforco Curso',\n",
       " 'Fonte de Financiamento',\n",
       " 'Idade',\n",
       " 'Total de Inscritos',\n",
       " 'Instituição',\n",
       " 'Mês De Ocorrência da Situação',\n",
       " 'Modalidade de Ensino',\n",
       " 'Código do Município com DV',\n",
       " 'Município ',\n",
       " 'Vagas Ofertadas',\n",
       " 'Nome de Curso',\n",
       " 'Número de registros',\n",
       " 'Região ',\n",
       " 'Renda Familiar',\n",
       " 'Sexo',\n",
       " 'Situação de Matrícula',\n",
       " 'Sub Eixo Tecnologico',\n",
       " 'Tipo Oferta',\n",
       " 'Tipo de Curso',\n",
       " 'Turno',\n",
       " 'UF ',\n",
       " 'Unidade de Ensino',\n",
       " 'Vagas Extraordinárias AC',\n",
       " 'Vagas Extraordinárias l10',\n",
       " 'Vagas Extraordinárias l13',\n",
       " 'Vagas Extraordinárias l14',\n",
       " 'Vagas Extraordinárias l1',\n",
       " 'Vagas Extraordinárias l2',\n",
       " 'Vagas Extraordinárias l5',\n",
       " 'Vagas Extraordinárias l6',\n",
       " 'Vagas Extraordinárias l9',\n",
       " 'Vagas Regulares AC',\n",
       " 'Vagas Regulares l10',\n",
       " 'Vagas Regulares l13',\n",
       " 'Vagas Regulares l14',\n",
       " 'Vagas Regulares l1',\n",
       " 'Vagas Regulares l2',\n",
       " 'Vagas Regulares l5',\n",
       " 'Vagas Regulares l6',\n",
       " 'Vagas Regulares l9']"
      ]
     },
     "execution_count": 2,
     "metadata": {},
     "output_type": "execute_result"
    }
   ],
   "source": [
    "df_2019.columns.tolist()"
   ]
  },
  {
   "cell_type": "markdown",
   "id": "2a12ffe7",
   "metadata": {},
   "source": [
    "### Verificando quantidade total de matrículas 2019:"
   ]
  },
  {
   "cell_type": "code",
   "execution_count": 3,
   "id": "c5174c2f",
   "metadata": {},
   "outputs": [
    {
     "data": {
      "text/plain": [
       "(21939, 58)"
      ]
     },
     "execution_count": 3,
     "metadata": {},
     "output_type": "execute_result"
    }
   ],
   "source": [
    "df_2019['dt_ocorrencia_matricula'] = pd.to_datetime(df_2019['Data de Ocorrencia da Matricula'], format='%d/%m/%Y')\n",
    "df_2019['ano_ocorrencia_matricula'] = df_2019['dt_ocorrencia_matricula'].dt.year\n",
    "df_2019['dt_fim_ciclo'] = pd.to_datetime(df_2019['Data de Fim Previsto do Ciclo'], format='%d/%m/%Y')\n",
    "df_2019['ano_fim_ciclo'] = df_2019['dt_fim_ciclo'].dt.year\n",
    "\n",
    "df_2019_qtd_matriculas = df_2019[(df_2019['Instituição'] == 'IFSUL')]\n",
    "df_2019_qtd_matriculas.shape"
   ]
  },
  {
   "cell_type": "markdown",
   "id": "81b87c19",
   "metadata": {},
   "source": [
    "### Filtrando matrículas por tipo de oferta Integrado e Proeja Integrado:"
   ]
  },
  {
   "cell_type": "code",
   "execution_count": 4,
   "id": "81169b56",
   "metadata": {},
   "outputs": [
    {
     "data": {
      "text/plain": [
       "[7350, 693]"
      ]
     },
     "execution_count": 4,
     "metadata": {},
     "output_type": "execute_result"
    }
   ],
   "source": [
    "import numpy as np\n",
    "import statistics\n",
    "\n",
    "f_integrado = df_2019_qtd_matriculas[(df_2019_qtd_matriculas['Tipo Oferta'] == 'Integrado')]\n",
    "qtd_matriculas_integrado = f_integrado.groupby(['Tipo Oferta', 'Situação de Matrícula'])['Tipo Oferta'].count().sum()\n",
    "\n",
    "f_proeja = df_2019_qtd_matriculas[(df_2019_qtd_matriculas['Tipo Oferta'] == 'PROEJA - Integrado')]\n",
    "qtd_matriculas_proeja = f_proeja.groupby(['Tipo Oferta', 'Situação de Matrícula'])['Tipo Oferta'].count().sum() \n",
    "\n",
    "lista_qtd_matriculas_cti_eja_2019 = [qtd_matriculas_integrado,qtd_matriculas_proeja]\n",
    "\n",
    "lista_qtd_matriculas_cti_eja_2019"
   ]
  },
  {
   "cell_type": "code",
   "execution_count": 5,
   "id": "d025e2f8",
   "metadata": {},
   "outputs": [
    {
     "data": {
      "text/plain": [
       "[12, 2900, 10, 462, 275, 3691]"
      ]
     },
     "execution_count": 5,
     "metadata": {},
     "output_type": "execute_result"
    }
   ],
   "source": [
    "# Filtro classificação racial - integrado - amarela\n",
    "filtro_integrado_amarela = f_integrado[(f_integrado['Cor / Raça']=='Amarela')]\n",
    "amarela = filtro_integrado_amarela.groupby(['Tipo Oferta','Cor / Raça'])['Cor / Raça'].count().sum()\n",
    "\n",
    "# Filtro classificação racial - integrado - branca\n",
    "filtro_integrado_branca = f_integrado[(f_integrado['Cor / Raça']=='Branca')]\n",
    "branca = filtro_integrado_branca.groupby(['Tipo Oferta','Cor / Raça'])['Cor / Raça'].count().sum()\n",
    "\n",
    "# Filtro classificação racial - integrado - indígena\n",
    "filtro_integrado_indigena = f_integrado[(f_integrado['Cor / Raça']=='Indígena')]\n",
    "indigena = filtro_integrado_indigena.groupby(['Tipo Oferta','Cor / Raça'])['Cor / Raça'].count().sum()\n",
    "\n",
    "# Filtro classificação racial - integrado - parda\n",
    "filtro_integrado_parda = f_integrado[(f_integrado['Cor / Raça']=='Parda')]\n",
    "parda = filtro_integrado_parda.groupby(['Tipo Oferta','Cor / Raça'])['Cor / Raça'].count().sum()\n",
    "\n",
    "# Filtro classificação racial - integrado - preta\n",
    "filtro_integrado_preta = f_integrado[(f_integrado['Cor / Raça']=='Preta')]\n",
    "preta = filtro_integrado_preta.groupby(['Tipo Oferta','Cor / Raça'])['Cor / Raça'].count().sum()\n",
    "\n",
    "# Filtro classificação racial - integrado - não declarada\n",
    "filtro_integrado_nao_declarada = f_integrado[(f_integrado['Cor / Raça']=='Não declarada')]\n",
    "nao_declarada = filtro_integrado_nao_declarada.groupby(['Tipo Oferta','Cor / Raça'])['Cor / Raça'].count().sum()\n",
    "\n",
    "lista_valores_integrado = [amarela,branca,indigena,parda,preta,nao_declarada]\n",
    "lista_valores_integrado"
   ]
  },
  {
   "cell_type": "code",
   "execution_count": 6,
   "id": "43a16cd0",
   "metadata": {},
   "outputs": [
    {
     "data": {
      "text/plain": [
       "Tipo Oferta  Cor / Raça   \n",
       "Integrado    Amarela            12\n",
       "             Branca           2900\n",
       "             Indígena           10\n",
       "             Não declarada    3691\n",
       "             Parda             462\n",
       "             Preta             275\n",
       "Name: Cor / Raça, dtype: int64"
      ]
     },
     "execution_count": 6,
     "metadata": {},
     "output_type": "execute_result"
    }
   ],
   "source": [
    "# Relacionando quantidade de matrículas, cor raça, tipo de oferta integrado\n",
    "f_integrado.groupby(['Tipo Oferta', 'Cor / Raça'])['Cor / Raça'].count()"
   ]
  },
  {
   "cell_type": "code",
   "execution_count": 7,
   "id": "fb83a77f",
   "metadata": {},
   "outputs": [
    {
     "data": {
      "text/plain": [
       "[1, 363, 7, 88, 75, 159]"
      ]
     },
     "execution_count": 7,
     "metadata": {},
     "output_type": "execute_result"
    }
   ],
   "source": [
    "# Filtro classificação racial - PROEJA - Integrado - amarela\n",
    "filtro_proeja_amarela = f_proeja[(f_proeja['Cor / Raça']=='Amarela')]\n",
    "amarela = filtro_proeja_amarela.groupby(['Tipo Oferta','Cor / Raça'])['Cor / Raça'].count().sum()\n",
    "\n",
    "# Filtro classificação racial - PROEJA - Integrado - branca\n",
    "filtro_proeja_branca = f_proeja[(f_proeja['Cor / Raça']=='Branca')]\n",
    "branca = filtro_proeja_branca.groupby(['Tipo Oferta','Cor / Raça'])['Cor / Raça'].count().sum()\n",
    "\n",
    "# Filtro classificação racial - PROEJA - Integrado - indígena\n",
    "filtro_proeja_indigena = f_proeja[(f_proeja['Cor / Raça']=='Indígena')]\n",
    "indigena = filtro_proeja_indigena.groupby(['Tipo Oferta','Cor / Raça'])['Cor / Raça'].count().sum()\n",
    "\n",
    "# Filtro classificação racial - PROEJA - Integrado - parda\n",
    "filtro_proeja_parda = f_proeja[(f_proeja['Cor / Raça']=='Parda')]\n",
    "parda = filtro_proeja_parda.groupby(['Tipo Oferta','Cor / Raça'])['Cor / Raça'].count().sum()\n",
    "\n",
    "# Filtro classificação racial - PROEJA - Integrado - preta\n",
    "filtro_proeja_preta = f_proeja[(f_proeja['Cor / Raça']=='Preta')]\n",
    "preta = filtro_proeja_preta.groupby(['Tipo Oferta','Cor / Raça'])['Cor / Raça'].count().sum()\n",
    "\n",
    "# Filtro classificação racial - PROEJA - Integrado - não declarada\n",
    "filtro_proeja_nao_declarada = f_proeja[(f_proeja['Cor / Raça']=='Não declarada')]\n",
    "nao_declarada = filtro_proeja_nao_declarada.groupby(['Tipo Oferta','Cor / Raça'])['Cor / Raça'].count().sum()\n",
    "\n",
    "lista_valores_proeja = [amarela,branca,indigena,parda,preta,nao_declarada]\n",
    "lista_valores_proeja\n",
    "\n",
    "#f_integrado['Cor Raca'].drop_duplicates()"
   ]
  },
  {
   "cell_type": "code",
   "execution_count": 8,
   "id": "2108978b",
   "metadata": {},
   "outputs": [
    {
     "data": {
      "text/plain": [
       "Tipo Oferta         Cor / Raça   \n",
       "PROEJA - Integrado  Amarela            1\n",
       "                    Branca           363\n",
       "                    Indígena           7\n",
       "                    Não declarada    159\n",
       "                    Parda             88\n",
       "                    Preta             75\n",
       "Name: Cor / Raça, dtype: int64"
      ]
     },
     "execution_count": 8,
     "metadata": {},
     "output_type": "execute_result"
    }
   ],
   "source": [
    "# Relacionando quantidade de matrículas, cor raça, tipo de oferta proeja\n",
    "f_proeja.groupby(['Tipo Oferta', 'Cor / Raça'])['Cor / Raça'].count()"
   ]
  },
  {
   "cell_type": "code",
   "execution_count": 14,
   "id": "8fdbb757",
   "metadata": {},
   "outputs": [
    {
     "data": {
      "text/plain": [
       "array([  12, 2900,   10,  462,  275, 3691,    1,  363,    7,   88,   75,\n",
       "        159])"
      ]
     },
     "execution_count": 14,
     "metadata": {},
     "output_type": "execute_result"
    }
   ],
   "source": [
    "import numpy as np\n",
    "\n",
    "lista_valores_class_racial = np.concatenate((lista_valores_integrado,lista_valores_proeja))\n",
    "lista_valores_class_racial"
   ]
  },
  {
   "cell_type": "markdown",
   "id": "26184c04",
   "metadata": {},
   "source": [
    "### Salvando informações em arquivo csv"
   ]
  },
  {
   "cell_type": "code",
   "execution_count": 15,
   "id": "e379a4b9",
   "metadata": {},
   "outputs": [],
   "source": [
    "a = np.asarray(lista_valores_class_racial)\n",
    "a.tofile('tmp_files/classificacao-racial-cti-eja-2019.csv', sep=',')"
   ]
  },
  {
   "cell_type": "markdown",
   "id": "2bc5119a",
   "metadata": {},
   "source": [
    "### Fazendo a leitura das informações"
   ]
  },
  {
   "cell_type": "code",
   "execution_count": 16,
   "id": "dc52f741",
   "metadata": {},
   "outputs": [
    {
     "data": {
      "text/plain": [
       "array([  12, 2900,   10,  462,  275, 3691,    1,  363,    7,   88,   75,\n",
       "        159])"
      ]
     },
     "execution_count": 16,
     "metadata": {},
     "output_type": "execute_result"
    }
   ],
   "source": [
    "file = np.genfromtxt('tmp_files/classificacao-racial-cti-eja-2019.csv', delimiter=',', dtype=None)\n",
    "file\n",
    "#t = np.concatenate((b,c))"
   ]
  }
 ],
 "metadata": {
  "kernelspec": {
   "display_name": "Python 3 (ipykernel)",
   "language": "python",
   "name": "python3"
  },
  "language_info": {
   "codemirror_mode": {
    "name": "ipython",
    "version": 3
   },
   "file_extension": ".py",
   "mimetype": "text/x-python",
   "name": "python",
   "nbconvert_exporter": "python",
   "pygments_lexer": "ipython3",
   "version": "3.9.12"
  }
 },
 "nbformat": 4,
 "nbformat_minor": 5
}
