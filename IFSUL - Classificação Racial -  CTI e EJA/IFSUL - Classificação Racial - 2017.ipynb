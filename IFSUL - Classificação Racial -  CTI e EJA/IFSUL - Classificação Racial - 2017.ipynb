{
 "cells": [
  {
   "cell_type": "markdown",
   "id": "e425ef6e",
   "metadata": {},
   "source": [
    "### Leitura dos microdados 2017 - Data de atualização: 28/06/2019:"
   ]
  },
  {
   "cell_type": "code",
   "execution_count": 17,
   "id": "86d47dc4",
   "metadata": {},
   "outputs": [
    {
     "data": {
      "text/html": [
       "<div>\n",
       "<style scoped>\n",
       "    .dataframe tbody tr th:only-of-type {\n",
       "        vertical-align: middle;\n",
       "    }\n",
       "\n",
       "    .dataframe tbody tr th {\n",
       "        vertical-align: top;\n",
       "    }\n",
       "\n",
       "    .dataframe thead th {\n",
       "        text-align: right;\n",
       "    }\n",
       "</style>\n",
       "<table border=\"1\" class=\"dataframe\">\n",
       "  <thead>\n",
       "    <tr style=\"text-align: right;\">\n",
       "      <th></th>\n",
       "      <th>Carga Horaria</th>\n",
       "      <th>Carga Horaria Minima</th>\n",
       "      <th>Co Ciclo Matricula</th>\n",
       "      <th>Co Matricula</th>\n",
       "      <th>Cor Raca</th>\n",
       "      <th>Dt Data Fim Previsto</th>\n",
       "      <th>Dt Data Inicio</th>\n",
       "      <th>Dt Ocorrencia Matricula</th>\n",
       "      <th>Eixo Tecnologico</th>\n",
       "      <th>Fator Esforco Curso</th>\n",
       "      <th>...</th>\n",
       "      <th>Sg Inst</th>\n",
       "      <th>Sg Sexo</th>\n",
       "      <th>Situa__O_Matricula</th>\n",
       "      <th>Sub Eixo Tecnologico</th>\n",
       "      <th>Tipo Curso</th>\n",
       "      <th>Tipo Oferta</th>\n",
       "      <th>Total Inscritos</th>\n",
       "      <th>Turno</th>\n",
       "      <th>Unidade Ensino</th>\n",
       "      <th>Vagas Ofertadas</th>\n",
       "    </tr>\n",
       "  </thead>\n",
       "  <tbody>\n",
       "    <tr>\n",
       "      <th>0</th>\n",
       "      <td>1000</td>\n",
       "      <td>800</td>\n",
       "      <td>1994900</td>\n",
       "      <td>65238226</td>\n",
       "      <td>PARDA</td>\n",
       "      <td>16/12/2016</td>\n",
       "      <td>03/08/2015</td>\n",
       "      <td>01/08/2015</td>\n",
       "      <td>Gestão e Negócios</td>\n",
       "      <td>1,01</td>\n",
       "      <td>...</td>\n",
       "      <td>IFB</td>\n",
       "      <td>F</td>\n",
       "      <td>CONCLUÍDA</td>\n",
       "      <td>Gestão e Negócios</td>\n",
       "      <td>Técnico</td>\n",
       "      <td>Subsequente</td>\n",
       "      <td>0</td>\n",
       "      <td>Noturno</td>\n",
       "      <td>Campus Brasília</td>\n",
       "      <td>80</td>\n",
       "    </tr>\n",
       "    <tr>\n",
       "      <th>1</th>\n",
       "      <td>3560</td>\n",
       "      <td>2400</td>\n",
       "      <td>1951409</td>\n",
       "      <td>64783502</td>\n",
       "      <td>BRANCA</td>\n",
       "      <td>15/07/2018</td>\n",
       "      <td>28/07/2014</td>\n",
       "      <td>01/07/2014</td>\n",
       "      <td>Desenvolvimento Educacional e Social</td>\n",
       "      <td>1,27</td>\n",
       "      <td>...</td>\n",
       "      <td>IFB</td>\n",
       "      <td>F</td>\n",
       "      <td>EM_CURSO</td>\n",
       "      <td>Desenvolvimento Educacional</td>\n",
       "      <td>Licenciatura</td>\n",
       "      <td>Não se aplica</td>\n",
       "      <td>143</td>\n",
       "      <td>Matutino</td>\n",
       "      <td>Campus Brasília</td>\n",
       "      <td>30</td>\n",
       "    </tr>\n",
       "    <tr>\n",
       "      <th>2</th>\n",
       "      <td>1000</td>\n",
       "      <td>800</td>\n",
       "      <td>1994900</td>\n",
       "      <td>65238256</td>\n",
       "      <td>PARDA</td>\n",
       "      <td>16/12/2016</td>\n",
       "      <td>03/08/2015</td>\n",
       "      <td>01/08/2015</td>\n",
       "      <td>Gestão e Negócios</td>\n",
       "      <td>1,01</td>\n",
       "      <td>...</td>\n",
       "      <td>IFB</td>\n",
       "      <td>F</td>\n",
       "      <td>CONCLUÍDA</td>\n",
       "      <td>Gestão e Negócios</td>\n",
       "      <td>Técnico</td>\n",
       "      <td>Subsequente</td>\n",
       "      <td>0</td>\n",
       "      <td>Noturno</td>\n",
       "      <td>Campus Brasília</td>\n",
       "      <td>80</td>\n",
       "    </tr>\n",
       "    <tr>\n",
       "      <th>3</th>\n",
       "      <td>1000</td>\n",
       "      <td>800</td>\n",
       "      <td>1994900</td>\n",
       "      <td>65238260</td>\n",
       "      <td>NÃO DECLARADA</td>\n",
       "      <td>16/12/2016</td>\n",
       "      <td>03/08/2015</td>\n",
       "      <td>01/08/2015</td>\n",
       "      <td>Gestão e Negócios</td>\n",
       "      <td>1,01</td>\n",
       "      <td>...</td>\n",
       "      <td>IFB</td>\n",
       "      <td>M</td>\n",
       "      <td>INTEGRALIZADA</td>\n",
       "      <td>Gestão e Negócios</td>\n",
       "      <td>Técnico</td>\n",
       "      <td>Subsequente</td>\n",
       "      <td>0</td>\n",
       "      <td>Noturno</td>\n",
       "      <td>Campus Brasília</td>\n",
       "      <td>80</td>\n",
       "    </tr>\n",
       "    <tr>\n",
       "      <th>4</th>\n",
       "      <td>1000</td>\n",
       "      <td>800</td>\n",
       "      <td>1994900</td>\n",
       "      <td>65238264</td>\n",
       "      <td>PARDA</td>\n",
       "      <td>16/12/2016</td>\n",
       "      <td>03/08/2015</td>\n",
       "      <td>01/08/2015</td>\n",
       "      <td>Gestão e Negócios</td>\n",
       "      <td>1,01</td>\n",
       "      <td>...</td>\n",
       "      <td>IFB</td>\n",
       "      <td>F</td>\n",
       "      <td>CONCLUÍDA</td>\n",
       "      <td>Gestão e Negócios</td>\n",
       "      <td>Técnico</td>\n",
       "      <td>Subsequente</td>\n",
       "      <td>0</td>\n",
       "      <td>Noturno</td>\n",
       "      <td>Campus Brasília</td>\n",
       "      <td>80</td>\n",
       "    </tr>\n",
       "  </tbody>\n",
       "</table>\n",
       "<p>5 rows × 25 columns</p>\n",
       "</div>"
      ],
      "text/plain": [
       "   Carga Horaria  Carga Horaria Minima  Co Ciclo Matricula  Co Matricula  \\\n",
       "0           1000                   800             1994900      65238226   \n",
       "1           3560                  2400             1951409      64783502   \n",
       "2           1000                   800             1994900      65238256   \n",
       "3           1000                   800             1994900      65238260   \n",
       "4           1000                   800             1994900      65238264   \n",
       "\n",
       "        Cor Raca Dt Data Fim Previsto Dt Data Inicio Dt Ocorrencia Matricula  \\\n",
       "0          PARDA           16/12/2016     03/08/2015              01/08/2015   \n",
       "1         BRANCA           15/07/2018     28/07/2014              01/07/2014   \n",
       "2          PARDA           16/12/2016     03/08/2015              01/08/2015   \n",
       "3  NÃO DECLARADA           16/12/2016     03/08/2015              01/08/2015   \n",
       "4          PARDA           16/12/2016     03/08/2015              01/08/2015   \n",
       "\n",
       "                       Eixo Tecnologico Fator Esforco Curso  ... Sg Inst  \\\n",
       "0                     Gestão e Negócios                1,01  ...     IFB   \n",
       "1  Desenvolvimento Educacional e Social                1,27  ...     IFB   \n",
       "2                     Gestão e Negócios                1,01  ...     IFB   \n",
       "3                     Gestão e Negócios                1,01  ...     IFB   \n",
       "4                     Gestão e Negócios                1,01  ...     IFB   \n",
       "\n",
       "  Sg Sexo Situa__O_Matricula         Sub Eixo Tecnologico    Tipo Curso  \\\n",
       "0       F          CONCLUÍDA            Gestão e Negócios       Técnico   \n",
       "1       F           EM_CURSO  Desenvolvimento Educacional  Licenciatura   \n",
       "2       F          CONCLUÍDA            Gestão e Negócios       Técnico   \n",
       "3       M      INTEGRALIZADA            Gestão e Negócios       Técnico   \n",
       "4       F          CONCLUÍDA            Gestão e Negócios       Técnico   \n",
       "\n",
       "     Tipo Oferta Total Inscritos     Turno   Unidade Ensino Vagas Ofertadas  \n",
       "0    Subsequente               0   Noturno  Campus Brasília              80  \n",
       "1  Não se aplica             143  Matutino  Campus Brasília              30  \n",
       "2    Subsequente               0   Noturno  Campus Brasília              80  \n",
       "3    Subsequente               0   Noturno  Campus Brasília              80  \n",
       "4    Subsequente               0   Noturno  Campus Brasília              80  \n",
       "\n",
       "[5 rows x 25 columns]"
      ]
     },
     "execution_count": 17,
     "metadata": {},
     "output_type": "execute_result"
    }
   ],
   "source": [
    "import pandas as pd\n",
    "\n",
    "df_2017 = pd.read_csv(\n",
    "    '../microdados_matriculas_2017.csv', \n",
    "    encoding='cp1252',\n",
    "    sep=';'\n",
    ")\n",
    "\n",
    "df_2017.head()"
   ]
  },
  {
   "cell_type": "markdown",
   "id": "8b22d974",
   "metadata": {},
   "source": [
    "### Verificando nome das colunas:"
   ]
  },
  {
   "cell_type": "code",
   "execution_count": 19,
   "id": "eab7b9f8",
   "metadata": {},
   "outputs": [
    {
     "data": {
      "text/plain": [
       "['Carga Horaria',\n",
       " 'Carga Horaria Minima',\n",
       " 'Co Ciclo Matricula',\n",
       " 'Co Matricula',\n",
       " 'Cor Raca',\n",
       " 'Dt Data Fim Previsto',\n",
       " 'Dt Data Inicio',\n",
       " 'Dt Ocorrencia Matricula',\n",
       " 'Eixo Tecnologico',\n",
       " 'Fator Esforco Curso',\n",
       " 'Mes De Ocorrencia',\n",
       " 'Modalidade Ensino',\n",
       " 'Nome Curso',\n",
       " 'Fonte de financiamento',\n",
       " 'Renda Familiar',\n",
       " 'Sg Inst',\n",
       " 'Sg Sexo',\n",
       " 'Situa__O_Matricula',\n",
       " 'Sub Eixo Tecnologico',\n",
       " 'Tipo Curso',\n",
       " 'Tipo Oferta',\n",
       " 'Total Inscritos',\n",
       " 'Turno',\n",
       " 'Unidade Ensino',\n",
       " 'Vagas Ofertadas']"
      ]
     },
     "execution_count": 19,
     "metadata": {},
     "output_type": "execute_result"
    }
   ],
   "source": [
    "df_2017.columns.tolist()"
   ]
  },
  {
   "cell_type": "markdown",
   "id": "2a12ffe7",
   "metadata": {},
   "source": [
    "### Verificando quantidade total de matrículas 2017:"
   ]
  },
  {
   "cell_type": "code",
   "execution_count": 20,
   "id": "c5174c2f",
   "metadata": {},
   "outputs": [
    {
     "data": {
      "text/plain": [
       "(21357, 29)"
      ]
     },
     "execution_count": 20,
     "metadata": {},
     "output_type": "execute_result"
    }
   ],
   "source": [
    "df_2017['dt_ocorrencia_matricula'] = pd.to_datetime(df_2017['Dt Ocorrencia Matricula'], format='%d/%m/%Y')\n",
    "df_2017['ano_ocorrencia_matricula'] = df_2017['dt_ocorrencia_matricula'].dt.year\n",
    "df_2017['dt_fim_ciclo'] = pd.to_datetime(df_2017['Dt Data Fim Previsto'], format='%d/%m/%Y')\n",
    "df_2017['ano_fim_ciclo'] = df_2017['dt_fim_ciclo'].dt.year\n",
    "\n",
    "df_2017_qtd_matriculas = df_2017[(df_2017['Sg Inst'] == 'IFSUL')]\n",
    "df_2017_qtd_matriculas.shape"
   ]
  },
  {
   "cell_type": "markdown",
   "id": "81b87c19",
   "metadata": {},
   "source": [
    "### Filtrando matrículas por tipo de oferta Integrado e Proeja Integrado:"
   ]
  },
  {
   "cell_type": "code",
   "execution_count": 21,
   "id": "81169b56",
   "metadata": {},
   "outputs": [
    {
     "data": {
      "text/plain": [
       "[6681, 590]"
      ]
     },
     "execution_count": 21,
     "metadata": {},
     "output_type": "execute_result"
    }
   ],
   "source": [
    "import numpy as np\n",
    "import statistics\n",
    "\n",
    "f_integrado = df_2017_qtd_matriculas[(df_2017_qtd_matriculas['Tipo Oferta'] == 'Integrado')]\n",
    "qtd_matriculas_integrado = f_integrado.groupby(['Tipo Oferta', 'Situa__O_Matricula'])['Tipo Oferta'].count().sum()\n",
    "\n",
    "f_proeja = df_2017_qtd_matriculas[(df_2017_qtd_matriculas['Tipo Oferta'] == 'PROEJA - Integrado')]\n",
    "qtd_matriculas_proeja = f_proeja.groupby(['Tipo Oferta', 'Situa__O_Matricula'])['Tipo Oferta'].count().sum() \n",
    "\n",
    "lista_qtd_matriculas_cti_eja_2017 = [qtd_matriculas_integrado,qtd_matriculas_proeja]\n",
    "\n",
    "lista_qtd_matriculas_cti_eja_2017"
   ]
  },
  {
   "cell_type": "code",
   "execution_count": 23,
   "id": "d025e2f8",
   "metadata": {},
   "outputs": [
    {
     "data": {
      "text/plain": [
       "[6, 1711, 9, 252, 140, 4563]"
      ]
     },
     "execution_count": 23,
     "metadata": {},
     "output_type": "execute_result"
    }
   ],
   "source": [
    "# Filtro classificação racial - integrado - amarela\n",
    "filtro_integrado_amarela = f_integrado[(f_integrado['Cor Raca']=='AMARELA')]\n",
    "amarela = filtro_integrado_amarela.groupby(['Tipo Oferta','Cor Raca'])['Cor Raca'].count().sum()\n",
    "\n",
    "# Filtro classificação racial - integrado - branca\n",
    "filtro_integrado_branca = f_integrado[(f_integrado['Cor Raca']=='BRANCA')]\n",
    "branca = filtro_integrado_branca.groupby(['Tipo Oferta','Cor Raca'])['Cor Raca'].count().sum()\n",
    "\n",
    "# Filtro classificação racial - integrado - indígena\n",
    "filtro_integrado_indigena = f_integrado[(f_integrado['Cor Raca']=='INDÍGENA')]\n",
    "indigena = filtro_integrado_indigena.groupby(['Tipo Oferta','Cor Raca'])['Cor Raca'].count().sum()\n",
    "\n",
    "# Filtro classificação racial - integrado - parda\n",
    "filtro_integrado_parda = f_integrado[(f_integrado['Cor Raca']=='PARDA')]\n",
    "parda = filtro_integrado_parda.groupby(['Tipo Oferta','Cor Raca'])['Cor Raca'].count().sum()\n",
    "\n",
    "# Filtro classificação racial - integrado - preta\n",
    "filtro_integrado_preta = f_integrado[(f_integrado['Cor Raca']=='PRETA')]\n",
    "preta = filtro_integrado_preta.groupby(['Tipo Oferta','Cor Raca'])['Cor Raca'].count().sum()\n",
    "\n",
    "# Filtro classificação racial - integrado - não declarada\n",
    "filtro_integrado_nao_declarada = f_integrado[(f_integrado['Cor Raca']=='NÃO DECLARADA')]\n",
    "nao_declarada = filtro_integrado_nao_declarada.groupby(['Tipo Oferta','Cor Raca'])['Cor Raca'].count().sum()\n",
    "\n",
    "lista_valores_integrado = [amarela,branca,indigena,parda,preta,nao_declarada]\n",
    "lista_valores_integrado"
   ]
  },
  {
   "cell_type": "code",
   "execution_count": 24,
   "id": "755809d4",
   "metadata": {},
   "outputs": [
    {
     "data": {
      "text/plain": [
       "Tipo Oferta  Cor Raca     \n",
       "Integrado    AMARELA             6\n",
       "             BRANCA           1711\n",
       "             INDÍGENA            9\n",
       "             NÃO DECLARADA    4563\n",
       "             PARDA             252\n",
       "             PRETA             140\n",
       "Name: Cor Raca, dtype: int64"
      ]
     },
     "execution_count": 24,
     "metadata": {},
     "output_type": "execute_result"
    }
   ],
   "source": [
    "# Relacionando quantidade de matrículas, cor raça, tipo de oferta integrado\n",
    "f_integrado.groupby(['Tipo Oferta', 'Cor Raca'])['Cor Raca'].count()"
   ]
  },
  {
   "cell_type": "code",
   "execution_count": 16,
   "id": "fb83a77f",
   "metadata": {},
   "outputs": [
    {
     "data": {
      "text/plain": [
       "[2, 355, 4, 64, 51, 114]"
      ]
     },
     "execution_count": 16,
     "metadata": {},
     "output_type": "execute_result"
    }
   ],
   "source": [
    "# Filtro classificação racial - PROEJA - Integrado - amarela\n",
    "filtro_proeja_amarela = f_proeja[(f_proeja['Cor Raca']=='AMARELA')]\n",
    "amarela = filtro_proeja_amarela.groupby(['Tipo Oferta','Cor Raca'])['Cor Raca'].count().sum()\n",
    "\n",
    "# Filtro classificação racial - PROEJA - Integrado - branca\n",
    "filtro_proeja_branca = f_proeja[(f_proeja['Cor Raca']=='BRANCA')]\n",
    "branca = filtro_proeja_branca.groupby(['Tipo Oferta','Cor Raca'])['Cor Raca'].count().sum()\n",
    "\n",
    "# Filtro classificação racial - PROEJA - Integrado - indígena\n",
    "filtro_proeja_indigena = f_proeja[(f_proeja['Cor Raca']=='INDÍGENA')]\n",
    "indigena = filtro_proeja_indigena.groupby(['Tipo Oferta','Cor Raca'])['Cor Raca'].count().sum()\n",
    "\n",
    "# Filtro classificação racial - PROEJA - Integrado - parda\n",
    "filtro_proeja_parda = f_proeja[(f_proeja['Cor Raca']=='PARDA')]\n",
    "parda = filtro_proeja_parda.groupby(['Tipo Oferta','Cor Raca'])['Cor Raca'].count().sum()\n",
    "\n",
    "# Filtro classificação racial - PROEJA - Integrado - preta\n",
    "filtro_proeja_preta = f_proeja[(f_proeja['Cor Raca']=='PRETA')]\n",
    "preta = filtro_proeja_preta.groupby(['Tipo Oferta','Cor Raca'])['Cor Raca'].count().sum()\n",
    "\n",
    "# Filtro classificação racial - PROEJA - Integrado - não declarada\n",
    "filtro_proeja_nao_declarada = f_proeja[(f_proeja['Cor Raca']=='NÃO DECLARADA')]\n",
    "nao_declarada = filtro_proeja_nao_declarada.groupby(['Tipo Oferta','Cor Raca'])['Cor Raca'].count().sum()\n",
    "\n",
    "lista_valores_proeja = [amarela,branca,indigena,parda,preta,nao_declarada]\n",
    "lista_valores_proeja\n",
    "\n",
    "#f_integrado['Cor Raca'].drop_duplicates()"
   ]
  },
  {
   "cell_type": "code",
   "execution_count": 25,
   "id": "94d41793",
   "metadata": {},
   "outputs": [
    {
     "data": {
      "text/plain": [
       "Tipo Oferta         Cor Raca     \n",
       "PROEJA - Integrado  AMARELA            2\n",
       "                    BRANCA           355\n",
       "                    INDÍGENA           4\n",
       "                    NÃO DECLARADA    114\n",
       "                    PARDA             64\n",
       "                    PRETA             51\n",
       "Name: Cor Raca, dtype: int64"
      ]
     },
     "execution_count": 25,
     "metadata": {},
     "output_type": "execute_result"
    }
   ],
   "source": [
    "# Relacionando quantidade de matrículas, cor raça, tipo de oferta proeja\n",
    "f_proeja.groupby(['Tipo Oferta', 'Cor Raca'])['Cor Raca'].count()"
   ]
  },
  {
   "cell_type": "code",
   "execution_count": 17,
   "id": "8fdbb757",
   "metadata": {},
   "outputs": [
    {
     "data": {
      "text/plain": [
       "array([   6, 1711,    9,  252,  140, 4563,    2,  355,    4,   64,   51,\n",
       "        114])"
      ]
     },
     "execution_count": 17,
     "metadata": {},
     "output_type": "execute_result"
    }
   ],
   "source": [
    "import numpy as np\n",
    "\n",
    "lista_valores_class_racial = np.concatenate(\n",
    "    (\n",
    "        lista_valores_integrado,\n",
    "        lista_valores_proeja\n",
    "    )\n",
    ")\n",
    "lista_valores_class_racial"
   ]
  },
  {
   "cell_type": "markdown",
   "id": "26184c04",
   "metadata": {},
   "source": [
    "### Salvando informações em arquivo csv"
   ]
  },
  {
   "cell_type": "code",
   "execution_count": 18,
   "id": "e379a4b9",
   "metadata": {},
   "outputs": [],
   "source": [
    "a = np.asarray(lista_valores_class_racial)\n",
    "a.tofile('tmp_files/classificacao-racial-cti-eja-2017.csv', sep=',')"
   ]
  },
  {
   "cell_type": "markdown",
   "id": "2bc5119a",
   "metadata": {},
   "source": [
    "### Fazendo a leitura das informações"
   ]
  },
  {
   "cell_type": "code",
   "execution_count": 19,
   "id": "dc52f741",
   "metadata": {},
   "outputs": [
    {
     "data": {
      "text/plain": [
       "array([   6, 1711,    9,  252,  140, 4563,    2,  355,    4,   64,   51,\n",
       "        114])"
      ]
     },
     "execution_count": 19,
     "metadata": {},
     "output_type": "execute_result"
    }
   ],
   "source": [
    "file = np.genfromtxt('tmp_files/classificacao-racial-cti-eja-2017.csv', delimiter=',', dtype=None)\n",
    "file\n",
    "#t = np.concatenate((b,c))"
   ]
  }
 ],
 "metadata": {
  "kernelspec": {
   "display_name": "Python 3 (ipykernel)",
   "language": "python",
   "name": "python3"
  },
  "language_info": {
   "codemirror_mode": {
    "name": "ipython",
    "version": 3
   },
   "file_extension": ".py",
   "mimetype": "text/x-python",
   "name": "python",
   "nbconvert_exporter": "python",
   "pygments_lexer": "ipython3",
   "version": "3.9.12"
  }
 },
 "nbformat": 4,
 "nbformat_minor": 5
}
