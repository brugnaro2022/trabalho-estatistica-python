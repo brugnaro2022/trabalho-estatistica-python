{
 "cells": [
  {
   "cell_type": "code",
   "execution_count": 1,
   "id": "60b80afd",
   "metadata": {},
   "outputs": [
    {
     "data": {
      "text/plain": [
       "array([   6, 1711,    9,  252,  140, 4563,    2,  355,    4,   64,   51,\n",
       "        114])"
      ]
     },
     "execution_count": 1,
     "metadata": {},
     "output_type": "execute_result"
    }
   ],
   "source": [
    "import numpy as np\n",
    "import statistics\n",
    "\n",
    "# Leitura dados de classificação racial 2017 - Integrado e Proeja\n",
    "data_2017 = np.genfromtxt('tmp_files/classificacao-racial-cti-eja-2017.csv', delimiter=',', dtype=None)\n",
    "data_2017"
   ]
  },
  {
   "cell_type": "code",
   "execution_count": 2,
   "id": "d72f22ce",
   "metadata": {},
   "outputs": [
    {
     "data": {
      "text/plain": [
       "array([   7, 2131,   12,  334,  208, 4331,    2,  353,    9,   81,   69,\n",
       "        206])"
      ]
     },
     "execution_count": 2,
     "metadata": {},
     "output_type": "execute_result"
    }
   ],
   "source": [
    "# Leitura dados de classificação racial 2018 - Integrado e Proeja\n",
    "data_2018 = np.genfromtxt('tmp_files/classificacao-racial-cti-eja-2018.csv', delimiter=',', dtype=None)\n",
    "data_2018"
   ]
  },
  {
   "cell_type": "code",
   "execution_count": 3,
   "id": "490b4a3f",
   "metadata": {},
   "outputs": [
    {
     "data": {
      "text/plain": [
       "array([  12, 2900,   10,  462,  275, 3691,    1,  363,    7,   88,   75,\n",
       "        159])"
      ]
     },
     "execution_count": 3,
     "metadata": {},
     "output_type": "execute_result"
    }
   ],
   "source": [
    "# Leitura dados de classificação racial 2019 - Integrado e Proeja\n",
    "data_2019 = np.genfromtxt('tmp_files/classificacao-racial-cti-eja-2019.csv', delimiter=',', dtype=None)\n",
    "data_2019"
   ]
  },
  {
   "cell_type": "code",
   "execution_count": 4,
   "id": "99863133",
   "metadata": {},
   "outputs": [
    {
     "data": {
      "text/plain": [
       "array([  18, 3538,   13,  521,  277, 3331,    2,  399,    1,   83,   66,\n",
       "        477])"
      ]
     },
     "execution_count": 4,
     "metadata": {},
     "output_type": "execute_result"
    }
   ],
   "source": [
    "# Leitura dados de classificação racial 2020 - Integrado e Proeja\n",
    "data_2020 = np.genfromtxt('tmp_files/classificacao-racial-cti-eja-2020.csv', delimiter=',', dtype=None)\n",
    "data_2020"
   ]
  },
  {
   "cell_type": "code",
   "execution_count": 5,
   "id": "4c8a8a10",
   "metadata": {},
   "outputs": [
    {
     "data": {
      "text/plain": [
       "[1,\n",
       " 1,\n",
       " 2,\n",
       " 2,\n",
       " 2,\n",
       " 4,\n",
       " 6,\n",
       " 7,\n",
       " 7,\n",
       " 9,\n",
       " 9,\n",
       " 10,\n",
       " 12,\n",
       " 12,\n",
       " 13,\n",
       " 18,\n",
       " 51,\n",
       " 64,\n",
       " 66,\n",
       " 69,\n",
       " 75,\n",
       " 81,\n",
       " 83,\n",
       " 88,\n",
       " 114,\n",
       " 140,\n",
       " 159,\n",
       " 206,\n",
       " 208,\n",
       " 252,\n",
       " 275,\n",
       " 277,\n",
       " 334,\n",
       " 353,\n",
       " 355,\n",
       " 363,\n",
       " 399,\n",
       " 462,\n",
       " 477,\n",
       " 521,\n",
       " 1711,\n",
       " 2131,\n",
       " 2900,\n",
       " 3331,\n",
       " 3538,\n",
       " 3691,\n",
       " 4331,\n",
       " 4563]"
      ]
     },
     "execution_count": 5,
     "metadata": {},
     "output_type": "execute_result"
    }
   ],
   "source": [
    "# concatenando valores\n",
    "lista_quantidades = np.concatenate((data_2017,data_2018,data_2019,data_2020))\n",
    "sorted(lista_quantidades)"
   ]
  },
  {
   "cell_type": "code",
   "execution_count": 6,
   "id": "b333a104",
   "metadata": {},
   "outputs": [
    {
     "data": {
      "text/plain": [
       "662"
      ]
     },
     "execution_count": 6,
     "metadata": {},
     "output_type": "execute_result"
    }
   ],
   "source": [
    "# média\n",
    "statistics.mean(lista_quantidades)"
   ]
  },
  {
   "cell_type": "code",
   "execution_count": 7,
   "id": "b6aa8e9b",
   "metadata": {},
   "outputs": [
    {
     "data": {
      "text/plain": [
       "101.0"
      ]
     },
     "execution_count": 7,
     "metadata": {},
     "output_type": "execute_result"
    }
   ],
   "source": [
    "# mediana\n",
    "statistics.median(lista_quantidades)"
   ]
  },
  {
   "cell_type": "code",
   "execution_count": 8,
   "id": "6924af90",
   "metadata": {},
   "outputs": [
    {
     "data": {
      "text/plain": [
       "2"
      ]
     },
     "execution_count": 8,
     "metadata": {},
     "output_type": "execute_result"
    }
   ],
   "source": [
    "# moda\n",
    "statistics.mode(lista_quantidades)"
   ]
  },
  {
   "cell_type": "code",
   "execution_count": 9,
   "id": "fabc3881",
   "metadata": {},
   "outputs": [
    {
     "data": {
      "text/plain": [
       "1562075"
      ]
     },
     "execution_count": 9,
     "metadata": {},
     "output_type": "execute_result"
    }
   ],
   "source": [
    "# variância\n",
    "statistics.variance(lista_quantidades)"
   ]
  },
  {
   "cell_type": "code",
   "execution_count": 10,
   "id": "4d17aa6b",
   "metadata": {},
   "outputs": [
    {
     "name": "stdout",
     "output_type": "stream",
     "text": [
      "1249.83\n"
     ]
    }
   ],
   "source": [
    "# desvio padrão\n",
    "print('{:.2f}'.format(statistics.stdev(lista_quantidades)))"
   ]
  },
  {
   "cell_type": "code",
   "execution_count": 22,
   "id": "463221f6-d14c-4a6a-8cbb-a6e4ef269793",
   "metadata": {},
   "outputs": [
    {
     "name": "stdout",
     "output_type": "stream",
     "text": [
      "95.67\n"
     ]
    }
   ],
   "source": [
    "l=[140,51,208,69,275,75,277,66] \n",
    "#statistics.mean(l)\n",
    "#statistics.median(l)\n",
    "#statistics.mode(l)\n",
    "print('{:.2f}'.format(statistics.stdev(l)))\n",
    "\n"
   ]
  }
 ],
 "metadata": {
  "kernelspec": {
   "display_name": "Python 3 (ipykernel)",
   "language": "python",
   "name": "python3"
  },
  "language_info": {
   "codemirror_mode": {
    "name": "ipython",
    "version": 3
   },
   "file_extension": ".py",
   "mimetype": "text/x-python",
   "name": "python",
   "nbconvert_exporter": "python",
   "pygments_lexer": "ipython3",
   "version": "3.9.12"
  }
 },
 "nbformat": 4,
 "nbformat_minor": 5
}
