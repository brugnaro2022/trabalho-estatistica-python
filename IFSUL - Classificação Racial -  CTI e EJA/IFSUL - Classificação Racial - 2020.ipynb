{
 "cells": [
  {
   "cell_type": "markdown",
   "id": "e425ef6e",
   "metadata": {},
   "source": [
    "### Leitura dos microdados 2020 - Data de atualização: 02/12/2021:"
   ]
  },
  {
   "cell_type": "code",
   "execution_count": 1,
   "id": "86d47dc4",
   "metadata": {},
   "outputs": [
    {
     "data": {
      "text/html": [
       "<div>\n",
       "<style scoped>\n",
       "    .dataframe tbody tr th:only-of-type {\n",
       "        vertical-align: middle;\n",
       "    }\n",
       "\n",
       "    .dataframe tbody tr th {\n",
       "        vertical-align: top;\n",
       "    }\n",
       "\n",
       "    .dataframe thead th {\n",
       "        text-align: right;\n",
       "    }\n",
       "</style>\n",
       "<table border=\"1\" class=\"dataframe\">\n",
       "  <thead>\n",
       "    <tr style=\"text-align: right;\">\n",
       "      <th></th>\n",
       "      <th>Carga Horaria</th>\n",
       "      <th>Carga Horaria Minima</th>\n",
       "      <th>Categoria de Situação</th>\n",
       "      <th>Cod Unidade</th>\n",
       "      <th>Cor/Raça</th>\n",
       "      <th>Código da Matrícula</th>\n",
       "      <th>Código da Unidade de Ensino - SISTEC</th>\n",
       "      <th>Código do Ciclo de Matrícula</th>\n",
       "      <th>Código do Município com DV</th>\n",
       "      <th>Data de Fim Previsto do Ciclo</th>\n",
       "      <th>...</th>\n",
       "      <th>Vagas Ofertadas</th>\n",
       "      <th>Vagas Regulares AC</th>\n",
       "      <th>Vagas Regulares l1</th>\n",
       "      <th>Vagas Regulares l10</th>\n",
       "      <th>Vagas Regulares l13</th>\n",
       "      <th>Vagas Regulares l14</th>\n",
       "      <th>Vagas Regulares l2</th>\n",
       "      <th>Vagas Regulares l5</th>\n",
       "      <th>Vagas Regulares l6</th>\n",
       "      <th>Vagas Regulares l9</th>\n",
       "    </tr>\n",
       "  </thead>\n",
       "  <tbody>\n",
       "    <tr>\n",
       "      <th>0</th>\n",
       "      <td>3182</td>\n",
       "      <td>800</td>\n",
       "      <td>Concluintes</td>\n",
       "      <td>17</td>\n",
       "      <td>BRANCA</td>\n",
       "      <td>66845709</td>\n",
       "      <td>13791</td>\n",
       "      <td>2016192</td>\n",
       "      <td>5201108</td>\n",
       "      <td>20/12/2018</td>\n",
       "      <td>...</td>\n",
       "      <td>0.0</td>\n",
       "      <td>0.0</td>\n",
       "      <td>0.0</td>\n",
       "      <td>0.0</td>\n",
       "      <td>0.0</td>\n",
       "      <td>0.0</td>\n",
       "      <td>0.0</td>\n",
       "      <td>0.0</td>\n",
       "      <td>0.0</td>\n",
       "      <td>0.0</td>\n",
       "    </tr>\n",
       "    <tr>\n",
       "      <th>1</th>\n",
       "      <td>3641</td>\n",
       "      <td>1200</td>\n",
       "      <td>Concluintes</td>\n",
       "      <td>279</td>\n",
       "      <td>BRANCA</td>\n",
       "      <td>66801823</td>\n",
       "      <td>3508</td>\n",
       "      <td>2016354</td>\n",
       "      <td>5211503</td>\n",
       "      <td>20/12/2018</td>\n",
       "      <td>...</td>\n",
       "      <td>0.0</td>\n",
       "      <td>0.0</td>\n",
       "      <td>0.0</td>\n",
       "      <td>0.0</td>\n",
       "      <td>0.0</td>\n",
       "      <td>0.0</td>\n",
       "      <td>0.0</td>\n",
       "      <td>0.0</td>\n",
       "      <td>0.0</td>\n",
       "      <td>0.0</td>\n",
       "    </tr>\n",
       "    <tr>\n",
       "      <th>2</th>\n",
       "      <td>5800</td>\n",
       "      <td>4000</td>\n",
       "      <td>Concluintes</td>\n",
       "      <td>523</td>\n",
       "      <td>BRANCA</td>\n",
       "      <td>64271041</td>\n",
       "      <td>2956</td>\n",
       "      <td>1859227</td>\n",
       "      <td>5221809</td>\n",
       "      <td>21/12/2018</td>\n",
       "      <td>...</td>\n",
       "      <td>40.0</td>\n",
       "      <td>20.0</td>\n",
       "      <td>3.0</td>\n",
       "      <td>1.0</td>\n",
       "      <td>1.0</td>\n",
       "      <td>1.0</td>\n",
       "      <td>5.0</td>\n",
       "      <td>3.0</td>\n",
       "      <td>5.0</td>\n",
       "      <td>1.0</td>\n",
       "    </tr>\n",
       "    <tr>\n",
       "      <th>3</th>\n",
       "      <td>4370</td>\n",
       "      <td>3600</td>\n",
       "      <td>Evadidos</td>\n",
       "      <td>523</td>\n",
       "      <td>BRANCA</td>\n",
       "      <td>44608044</td>\n",
       "      <td>2956</td>\n",
       "      <td>1206840</td>\n",
       "      <td>5221809</td>\n",
       "      <td>22/12/2016</td>\n",
       "      <td>...</td>\n",
       "      <td>40.0</td>\n",
       "      <td>20.0</td>\n",
       "      <td>3.0</td>\n",
       "      <td>1.0</td>\n",
       "      <td>1.0</td>\n",
       "      <td>1.0</td>\n",
       "      <td>5.0</td>\n",
       "      <td>3.0</td>\n",
       "      <td>5.0</td>\n",
       "      <td>1.0</td>\n",
       "    </tr>\n",
       "    <tr>\n",
       "      <th>4</th>\n",
       "      <td>5800</td>\n",
       "      <td>4000</td>\n",
       "      <td>Concluintes</td>\n",
       "      <td>523</td>\n",
       "      <td>BRANCA</td>\n",
       "      <td>59220389</td>\n",
       "      <td>2956</td>\n",
       "      <td>1859227</td>\n",
       "      <td>5221809</td>\n",
       "      <td>21/12/2018</td>\n",
       "      <td>...</td>\n",
       "      <td>40.0</td>\n",
       "      <td>20.0</td>\n",
       "      <td>3.0</td>\n",
       "      <td>1.0</td>\n",
       "      <td>1.0</td>\n",
       "      <td>1.0</td>\n",
       "      <td>5.0</td>\n",
       "      <td>3.0</td>\n",
       "      <td>5.0</td>\n",
       "      <td>1.0</td>\n",
       "    </tr>\n",
       "  </tbody>\n",
       "</table>\n",
       "<p>5 rows × 54 columns</p>\n",
       "</div>"
      ],
      "text/plain": [
       "   Carga Horaria  Carga Horaria Minima Categoria de Situação  Cod Unidade  \\\n",
       "0           3182                   800           Concluintes           17   \n",
       "1           3641                  1200           Concluintes          279   \n",
       "2           5800                  4000           Concluintes          523   \n",
       "3           4370                  3600              Evadidos          523   \n",
       "4           5800                  4000           Concluintes          523   \n",
       "\n",
       "  Cor/Raça  Código da Matrícula  Código da Unidade de Ensino - SISTEC  \\\n",
       "0   BRANCA             66845709                                 13791   \n",
       "1   BRANCA             66801823                                  3508   \n",
       "2   BRANCA             64271041                                  2956   \n",
       "3   BRANCA             44608044                                  2956   \n",
       "4   BRANCA             59220389                                  2956   \n",
       "\n",
       "   Código do Ciclo de Matrícula  Código do Município com DV  \\\n",
       "0                       2016192                     5201108   \n",
       "1                       2016354                     5211503   \n",
       "2                       1859227                     5221809   \n",
       "3                       1206840                     5221809   \n",
       "4                       1859227                     5221809   \n",
       "\n",
       "  Data de Fim Previsto do Ciclo  ... Vagas Ofertadas Vagas Regulares AC  \\\n",
       "0                    20/12/2018  ...             0.0                0.0   \n",
       "1                    20/12/2018  ...             0.0                0.0   \n",
       "2                    21/12/2018  ...            40.0               20.0   \n",
       "3                    22/12/2016  ...            40.0               20.0   \n",
       "4                    21/12/2018  ...            40.0               20.0   \n",
       "\n",
       "  Vagas Regulares l1 Vagas Regulares l10 Vagas Regulares l13  \\\n",
       "0                0.0                 0.0                 0.0   \n",
       "1                0.0                 0.0                 0.0   \n",
       "2                3.0                 1.0                 1.0   \n",
       "3                3.0                 1.0                 1.0   \n",
       "4                3.0                 1.0                 1.0   \n",
       "\n",
       "  Vagas Regulares l14  Vagas Regulares l2 Vagas Regulares l5  \\\n",
       "0                 0.0                 0.0                0.0   \n",
       "1                 0.0                 0.0                0.0   \n",
       "2                 1.0                 5.0                3.0   \n",
       "3                 1.0                 5.0                3.0   \n",
       "4                 1.0                 5.0                3.0   \n",
       "\n",
       "   Vagas Regulares l6 Vagas Regulares l9  \n",
       "0                 0.0                0.0  \n",
       "1                 0.0                0.0  \n",
       "2                 5.0                1.0  \n",
       "3                 5.0                1.0  \n",
       "4                 5.0                1.0  \n",
       "\n",
       "[5 rows x 54 columns]"
      ]
     },
     "execution_count": 1,
     "metadata": {},
     "output_type": "execute_result"
    }
   ],
   "source": [
    "import pandas as pd\n",
    "\n",
    "df_2020 = pd.read_csv('../microdados_matriculas_2020.csv', sep=';')\n",
    "\n",
    "df_2020.head()"
   ]
  },
  {
   "cell_type": "markdown",
   "id": "8b22d974",
   "metadata": {},
   "source": [
    "### Verificando nome das colunas:"
   ]
  },
  {
   "cell_type": "code",
   "execution_count": 2,
   "id": "eab7b9f8",
   "metadata": {},
   "outputs": [
    {
     "data": {
      "text/plain": [
       "['Carga Horaria',\n",
       " 'Carga Horaria Minima',\n",
       " 'Categoria de Situação',\n",
       " 'Cod Unidade',\n",
       " 'Cor/Raça',\n",
       " 'Código da Matrícula',\n",
       " 'Código da Unidade de Ensino - SISTEC',\n",
       " 'Código do Ciclo de Matrícula',\n",
       " 'Código do Município com DV',\n",
       " 'Data de Fim Previsto do Ciclo',\n",
       " 'Data de Inicio do Ciclo',\n",
       " 'Data de Ocorrência da Matrícula',\n",
       " 'Eixo Tecnológico',\n",
       " 'Faixa Etária',\n",
       " 'Fator Esforco Curso',\n",
       " 'Fonte de Financiamento',\n",
       " 'Idade',\n",
       " 'Instituição',\n",
       " 'Matrícula 2019',\n",
       " 'Modalidade de Ensino',\n",
       " 'Mês de Ocorrência da Situação',\n",
       " 'Nome de Curso',\n",
       " 'Número de registros',\n",
       " 'Região',\n",
       " 'Renda Familiar',\n",
       " 'Sexo',\n",
       " 'Situação de Matrícula',\n",
       " 'Subeixo Tecnológico',\n",
       " 'Tipo de Curso',\n",
       " 'Tipo de Oferta',\n",
       " 'Tipo de Unidade',\n",
       " 'Tipo Oferta',\n",
       " 'Turno',\n",
       " 'UF',\n",
       " 'Unidade de Ensino',\n",
       " 'Vagas Extraordinárias AC',\n",
       " 'Vagas Extraordinárias l1',\n",
       " 'Vagas Extraordinárias l10',\n",
       " 'Vagas Extraordinárias l13',\n",
       " 'Vagas Extraordinárias l14',\n",
       " 'Vagas Extraordinárias l2',\n",
       " 'Vagas Extraordinárias l5',\n",
       " 'Vagas Extraordinárias l6',\n",
       " 'Vagas Extraordinárias l9',\n",
       " 'Vagas Ofertadas',\n",
       " 'Vagas Regulares AC',\n",
       " 'Vagas Regulares l1',\n",
       " 'Vagas Regulares l10',\n",
       " 'Vagas Regulares l13',\n",
       " 'Vagas Regulares l14',\n",
       " 'Vagas Regulares l2',\n",
       " 'Vagas Regulares l5',\n",
       " 'Vagas Regulares l6',\n",
       " 'Vagas Regulares l9']"
      ]
     },
     "execution_count": 2,
     "metadata": {},
     "output_type": "execute_result"
    }
   ],
   "source": [
    "df_2020.columns.tolist()"
   ]
  },
  {
   "cell_type": "markdown",
   "id": "2a12ffe7",
   "metadata": {},
   "source": [
    "### Verificando quantidade total de matrículas 2020:"
   ]
  },
  {
   "cell_type": "code",
   "execution_count": 3,
   "id": "c5174c2f",
   "metadata": {},
   "outputs": [
    {
     "data": {
      "text/plain": [
       "(46349, 58)"
      ]
     },
     "execution_count": 3,
     "metadata": {},
     "output_type": "execute_result"
    }
   ],
   "source": [
    "df_2020['dt_ocorrencia_matricula'] = pd.to_datetime(df_2020['Data de Ocorrência da Matrícula'], format='%d/%m/%Y')\n",
    "df_2020['ano_ocorrencia_matricula'] = df_2020['dt_ocorrencia_matricula'].dt.year\n",
    "df_2020['dt_fim_ciclo'] = pd.to_datetime(df_2020['Data de Fim Previsto do Ciclo'], format='%d/%m/%Y')\n",
    "df_2020['ano_fim_ciclo'] = df_2020['dt_fim_ciclo'].dt.year\n",
    "\n",
    "df_2020_qtd_matriculas = df_2020[(df_2020['Instituição'] == 'IFSUL')]\n",
    "df_2020_qtd_matriculas.shape"
   ]
  },
  {
   "cell_type": "markdown",
   "id": "81b87c19",
   "metadata": {},
   "source": [
    "### Filtrando matrículas por tipo de oferta Integrado e Proeja Integrado:"
   ]
  },
  {
   "cell_type": "code",
   "execution_count": 4,
   "id": "81169b56",
   "metadata": {},
   "outputs": [
    {
     "data": {
      "text/plain": [
       "[7698, 1028]"
      ]
     },
     "execution_count": 4,
     "metadata": {},
     "output_type": "execute_result"
    }
   ],
   "source": [
    "import numpy as np\n",
    "import statistics\n",
    "\n",
    "f_integrado = df_2020_qtd_matriculas[(df_2020_qtd_matriculas['Tipo Oferta'] == 'Integrado')]\n",
    "qtd_matriculas_integrado = f_integrado.groupby(['Tipo Oferta', 'Situação de Matrícula'])['Tipo Oferta'].count().sum()\n",
    "\n",
    "f_proeja = df_2020_qtd_matriculas[(df_2020_qtd_matriculas['Tipo Oferta'] == 'PROEJA - Integrado')]\n",
    "qtd_matriculas_proeja = f_proeja.groupby(['Tipo Oferta', 'Situação de Matrícula'])['Tipo Oferta'].count().sum() \n",
    "\n",
    "lista_qtd_matriculas_cti_eja_2020 = [qtd_matriculas_integrado,qtd_matriculas_proeja]\n",
    "\n",
    "lista_qtd_matriculas_cti_eja_2020"
   ]
  },
  {
   "cell_type": "code",
   "execution_count": 5,
   "id": "d025e2f8",
   "metadata": {},
   "outputs": [
    {
     "data": {
      "text/plain": [
       "[18, 3538, 13, 521, 277, 3331]"
      ]
     },
     "execution_count": 5,
     "metadata": {},
     "output_type": "execute_result"
    }
   ],
   "source": [
    "# Filtro classificação racial - integrado - amarela\n",
    "filtro_integrado_amarela = f_integrado[(f_integrado['Cor/Raça']=='AMARELA')]\n",
    "amarela = filtro_integrado_amarela.groupby(['Tipo Oferta','Cor/Raça'])['Cor/Raça'].count().sum()\n",
    "\n",
    "# Filtro classificação racial - integrado - branca\n",
    "filtro_integrado_branca = f_integrado[(f_integrado['Cor/Raça']=='BRANCA')]\n",
    "branca = filtro_integrado_branca.groupby(['Tipo Oferta','Cor/Raça'])['Cor/Raça'].count().sum()\n",
    "\n",
    "# Filtro classificação racial - integrado - indígena\n",
    "filtro_integrado_indigena = f_integrado[(f_integrado['Cor/Raça']=='INDÍGENA')]\n",
    "indigena = filtro_integrado_indigena.groupby(['Tipo Oferta','Cor/Raça'])['Cor/Raça'].count().sum()\n",
    "\n",
    "# Filtro classificação racial - integrado - parda\n",
    "filtro_integrado_parda = f_integrado[(f_integrado['Cor/Raça']=='PARDA')]\n",
    "parda = filtro_integrado_parda.groupby(['Tipo Oferta','Cor/Raça'])['Cor/Raça'].count().sum()\n",
    "\n",
    "# Filtro classificação racial - integrado - preta\n",
    "filtro_integrado_preta = f_integrado[(f_integrado['Cor/Raça']=='PRETA')]\n",
    "preta = filtro_integrado_preta.groupby(['Tipo Oferta','Cor/Raça'])['Cor/Raça'].count().sum()\n",
    "\n",
    "# Filtro classificação racial - integrado - não declarada\n",
    "filtro_integrado_nao_declarada = f_integrado[(f_integrado['Cor/Raça']=='NÃO DECLARADA')]\n",
    "nao_declarada = filtro_integrado_nao_declarada.groupby(['Tipo Oferta','Cor/Raça'])['Cor/Raça'].count().sum()\n",
    "\n",
    "lista_valores_integrado = [amarela,branca,indigena,parda,preta,nao_declarada]\n",
    "lista_valores_integrado"
   ]
  },
  {
   "cell_type": "code",
   "execution_count": 6,
   "id": "f6401471",
   "metadata": {},
   "outputs": [
    {
     "data": {
      "text/plain": [
       "Tipo Oferta  Cor/Raça     \n",
       "Integrado    AMARELA            18\n",
       "             BRANCA           3538\n",
       "             INDÍGENA           13\n",
       "             NÃO DECLARADA    3331\n",
       "             PARDA             521\n",
       "             PRETA             277\n",
       "Name: Cor/Raça, dtype: int64"
      ]
     },
     "execution_count": 6,
     "metadata": {},
     "output_type": "execute_result"
    }
   ],
   "source": [
    "# Relacionando quantidade de matrículas, cor raça, tipo de oferta integrado\n",
    "f_integrado.groupby(['Tipo Oferta', 'Cor/Raça'])['Cor/Raça'].count()"
   ]
  },
  {
   "cell_type": "code",
   "execution_count": 7,
   "id": "fb83a77f",
   "metadata": {},
   "outputs": [
    {
     "data": {
      "text/plain": [
       "[2, 399, 1, 83, 66, 477]"
      ]
     },
     "execution_count": 7,
     "metadata": {},
     "output_type": "execute_result"
    }
   ],
   "source": [
    "# Filtro classificação racial - PROEJA - Integrado - amarela\n",
    "filtro_proeja_amarela = f_proeja[(f_proeja['Cor/Raça']=='AMARELA')]\n",
    "amarela = filtro_proeja_amarela.groupby(['Tipo Oferta','Cor/Raça'])['Cor/Raça'].count().sum()\n",
    "\n",
    "# Filtro classificação racial - PROEJA - Integrado - branca\n",
    "filtro_proeja_branca = f_proeja[(f_proeja['Cor/Raça']=='BRANCA')]\n",
    "branca = filtro_proeja_branca.groupby(['Tipo Oferta','Cor/Raça'])['Cor/Raça'].count().sum()\n",
    "\n",
    "# Filtro classificação racial - PROEJA - Integrado - indígena\n",
    "filtro_proeja_indigena = f_proeja[(f_proeja['Cor/Raça']=='INDÍGENA')]\n",
    "indigena = filtro_proeja_indigena.groupby(['Tipo Oferta','Cor/Raça'])['Cor/Raça'].count().sum()\n",
    "\n",
    "# Filtro classificação racial - PROEJA - Integrado - parda\n",
    "filtro_proeja_parda = f_proeja[(f_proeja['Cor/Raça']=='PARDA')]\n",
    "parda = filtro_proeja_parda.groupby(['Tipo Oferta','Cor/Raça'])['Cor/Raça'].count().sum()\n",
    "\n",
    "# Filtro classificação racial - PROEJA - Integrado - preta\n",
    "filtro_proeja_preta = f_proeja[(f_proeja['Cor/Raça']=='PRETA')]\n",
    "preta = filtro_proeja_preta.groupby(['Tipo Oferta','Cor/Raça'])['Cor/Raça'].count().sum()\n",
    "\n",
    "# Filtro classificação racial - PROEJA - Integrado - não declarada\n",
    "filtro_proeja_nao_declarada = f_proeja[(f_proeja['Cor/Raça']=='NÃO DECLARADA')]\n",
    "nao_declarada = filtro_proeja_nao_declarada.groupby(['Tipo Oferta','Cor/Raça'])['Cor/Raça'].count().sum()\n",
    "\n",
    "lista_valores_proeja = [amarela,branca,indigena,parda,preta,nao_declarada]\n",
    "lista_valores_proeja\n",
    "\n",
    "#f_integrado['Cor Raca'].drop_duplicates()"
   ]
  },
  {
   "cell_type": "code",
   "execution_count": 8,
   "id": "5c3bed56",
   "metadata": {},
   "outputs": [
    {
     "data": {
      "text/plain": [
       "Tipo Oferta         Cor/Raça     \n",
       "PROEJA - Integrado  AMARELA            2\n",
       "                    BRANCA           399\n",
       "                    INDÍGENA           1\n",
       "                    NÃO DECLARADA    477\n",
       "                    PARDA             83\n",
       "                    PRETA             66\n",
       "Name: Cor/Raça, dtype: int64"
      ]
     },
     "execution_count": 8,
     "metadata": {},
     "output_type": "execute_result"
    }
   ],
   "source": [
    "# Relacionando quantidade de matrículas, cor raça, tipo de oferta proeja\n",
    "f_proeja.groupby(['Tipo Oferta', 'Cor/Raça'])['Cor/Raça'].count()"
   ]
  },
  {
   "cell_type": "code",
   "execution_count": 9,
   "id": "8fdbb757",
   "metadata": {},
   "outputs": [
    {
     "data": {
      "text/plain": [
       "array([  18, 3538,   13,  521,  277, 3331,    2,  399,    1,   83,   66,\n",
       "        477])"
      ]
     },
     "execution_count": 9,
     "metadata": {},
     "output_type": "execute_result"
    }
   ],
   "source": [
    "import numpy as np\n",
    "\n",
    "lista_valores_class_racial = np.concatenate((lista_valores_integrado,lista_valores_proeja))\n",
    "lista_valores_class_racial"
   ]
  },
  {
   "cell_type": "markdown",
   "id": "26184c04",
   "metadata": {},
   "source": [
    "### Salvando informações em arquivo csv"
   ]
  },
  {
   "cell_type": "code",
   "execution_count": 10,
   "id": "e379a4b9",
   "metadata": {},
   "outputs": [],
   "source": [
    "a = np.asarray(lista_valores_class_racial)\n",
    "a.tofile('tmp_files/classificacao-racial-cti-eja-2020.csv', sep=',')"
   ]
  },
  {
   "cell_type": "markdown",
   "id": "2bc5119a",
   "metadata": {},
   "source": [
    "### Fazendo a leitura das informações"
   ]
  },
  {
   "cell_type": "code",
   "execution_count": 11,
   "id": "dc52f741",
   "metadata": {},
   "outputs": [
    {
     "data": {
      "text/plain": [
       "array([  18, 3538,   13,  521,  277, 3331,    2,  399,    1,   83,   66,\n",
       "        477])"
      ]
     },
     "execution_count": 11,
     "metadata": {},
     "output_type": "execute_result"
    }
   ],
   "source": [
    "file = np.genfromtxt('tmp_files/classificacao-racial-cti-eja-2020.csv', delimiter=',', dtype=None)\n",
    "file\n",
    "#t = np.concatenate((b,c))"
   ]
  }
 ],
 "metadata": {
  "kernelspec": {
   "display_name": "Python 3 (ipykernel)",
   "language": "python",
   "name": "python3"
  },
  "language_info": {
   "codemirror_mode": {
    "name": "ipython",
    "version": 3
   },
   "file_extension": ".py",
   "mimetype": "text/x-python",
   "name": "python",
   "nbconvert_exporter": "python",
   "pygments_lexer": "ipython3",
   "version": "3.9.12"
  }
 },
 "nbformat": 4,
 "nbformat_minor": 5
}
