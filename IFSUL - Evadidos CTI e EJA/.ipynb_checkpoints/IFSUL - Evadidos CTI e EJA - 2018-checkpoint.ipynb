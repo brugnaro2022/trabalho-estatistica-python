{
 "cells": [
  {
   "cell_type": "markdown",
   "id": "a525d965",
   "metadata": {},
   "source": [
    "### Leitura dos microdados 2018 - Data de atualização: 04/07/2019:"
   ]
  },
  {
   "cell_type": "code",
   "execution_count": 1,
   "id": "bde58af6",
   "metadata": {},
   "outputs": [
    {
     "data": {
      "text/html": [
       "<div>\n",
       "<style scoped>\n",
       "    .dataframe tbody tr th:only-of-type {\n",
       "        vertical-align: middle;\n",
       "    }\n",
       "\n",
       "    .dataframe tbody tr th {\n",
       "        vertical-align: top;\n",
       "    }\n",
       "\n",
       "    .dataframe thead th {\n",
       "        text-align: right;\n",
       "    }\n",
       "</style>\n",
       "<table border=\"1\" class=\"dataframe\">\n",
       "  <thead>\n",
       "    <tr style=\"text-align: right;\">\n",
       "      <th></th>\n",
       "      <th>Sexo</th>\n",
       "      <th>Renda Familiar</th>\n",
       "      <th>Cor / Raça</th>\n",
       "      <th>Idade</th>\n",
       "      <th>Faixa Etária</th>\n",
       "      <th>Código da Matrícula</th>\n",
       "      <th>Data de Ocorrência da Matrícula</th>\n",
       "      <th>Situação da Matrícula</th>\n",
       "      <th>Categoria de Situação</th>\n",
       "      <th>Mês de Ocorrência da Situação</th>\n",
       "      <th>...</th>\n",
       "      <th>Fator de Esforço de Curso</th>\n",
       "      <th>Código da Unidade de Ensino - SISTEC</th>\n",
       "      <th>Unidade de Ensino</th>\n",
       "      <th>Código do Município com DV</th>\n",
       "      <th>Município</th>\n",
       "      <th>Instituição</th>\n",
       "      <th>UF</th>\n",
       "      <th>Microrregião</th>\n",
       "      <th>Mesorregião</th>\n",
       "      <th>Região</th>\n",
       "    </tr>\n",
       "  </thead>\n",
       "  <tbody>\n",
       "    <tr>\n",
       "      <th>0</th>\n",
       "      <td>F</td>\n",
       "      <td>2,5&lt;RFP&lt;=3,5</td>\n",
       "      <td>Preta</td>\n",
       "      <td>17.0</td>\n",
       "      <td>15 a 19 anos</td>\n",
       "      <td>66777851</td>\n",
       "      <td>01/02/2016</td>\n",
       "      <td>CONCLUÍDA</td>\n",
       "      <td>Concluintes</td>\n",
       "      <td>01/12/2018</td>\n",
       "      <td>...</td>\n",
       "      <td>1,25</td>\n",
       "      <td>42071.0</td>\n",
       "      <td>Campus Teófilo Otoni</td>\n",
       "      <td>3168606</td>\n",
       "      <td>Teófilo Otoni</td>\n",
       "      <td>IFNMG</td>\n",
       "      <td>MG</td>\n",
       "      <td>Teófilo Otoni</td>\n",
       "      <td>Vale do Mucuri</td>\n",
       "      <td>Região Sudeste</td>\n",
       "    </tr>\n",
       "    <tr>\n",
       "      <th>1</th>\n",
       "      <td>F</td>\n",
       "      <td>0&lt;RFP&lt;=0,5</td>\n",
       "      <td>Preta</td>\n",
       "      <td>17.0</td>\n",
       "      <td>15 a 19 anos</td>\n",
       "      <td>66777845</td>\n",
       "      <td>01/02/2016</td>\n",
       "      <td>CONCLUÍDA</td>\n",
       "      <td>Concluintes</td>\n",
       "      <td>01/12/2018</td>\n",
       "      <td>...</td>\n",
       "      <td>1,25</td>\n",
       "      <td>42071.0</td>\n",
       "      <td>Campus Teófilo Otoni</td>\n",
       "      <td>3168606</td>\n",
       "      <td>Teófilo Otoni</td>\n",
       "      <td>IFNMG</td>\n",
       "      <td>MG</td>\n",
       "      <td>Teófilo Otoni</td>\n",
       "      <td>Vale do Mucuri</td>\n",
       "      <td>Região Sudeste</td>\n",
       "    </tr>\n",
       "    <tr>\n",
       "      <th>2</th>\n",
       "      <td>M</td>\n",
       "      <td>NÃO DECLARADA</td>\n",
       "      <td>Preta</td>\n",
       "      <td>17.0</td>\n",
       "      <td>15 a 19 anos</td>\n",
       "      <td>66777623</td>\n",
       "      <td>01/02/2016</td>\n",
       "      <td>CONCLUÍDA</td>\n",
       "      <td>Concluintes</td>\n",
       "      <td>01/12/2018</td>\n",
       "      <td>...</td>\n",
       "      <td>1,3</td>\n",
       "      <td>14038.0</td>\n",
       "      <td>Campus Votuporanga</td>\n",
       "      <td>3557105</td>\n",
       "      <td>Votuporanga</td>\n",
       "      <td>IFSP</td>\n",
       "      <td>SP</td>\n",
       "      <td>Votuporanga</td>\n",
       "      <td>São José do Rio Preto</td>\n",
       "      <td>Região Sudeste</td>\n",
       "    </tr>\n",
       "    <tr>\n",
       "      <th>3</th>\n",
       "      <td>F</td>\n",
       "      <td>1&lt;RFP&lt;=1,5</td>\n",
       "      <td>Preta</td>\n",
       "      <td>17.0</td>\n",
       "      <td>15 a 19 anos</td>\n",
       "      <td>66777249</td>\n",
       "      <td>01/02/2016</td>\n",
       "      <td>CONCLUÍDA</td>\n",
       "      <td>Concluintes</td>\n",
       "      <td>01/12/2018</td>\n",
       "      <td>...</td>\n",
       "      <td>1,3</td>\n",
       "      <td>14038.0</td>\n",
       "      <td>Campus Votuporanga</td>\n",
       "      <td>3557105</td>\n",
       "      <td>Votuporanga</td>\n",
       "      <td>IFSP</td>\n",
       "      <td>SP</td>\n",
       "      <td>Votuporanga</td>\n",
       "      <td>São José do Rio Preto</td>\n",
       "      <td>Região Sudeste</td>\n",
       "    </tr>\n",
       "    <tr>\n",
       "      <th>4</th>\n",
       "      <td>F</td>\n",
       "      <td>0&lt;RFP&lt;=0,5</td>\n",
       "      <td>Preta</td>\n",
       "      <td>18.0</td>\n",
       "      <td>15 a 19 anos</td>\n",
       "      <td>66774784</td>\n",
       "      <td>01/03/2016</td>\n",
       "      <td>CONCLUÍDA</td>\n",
       "      <td>Concluintes</td>\n",
       "      <td>01/12/2018</td>\n",
       "      <td>...</td>\n",
       "      <td>1,2</td>\n",
       "      <td>2995.0</td>\n",
       "      <td>Campus São João Evangelista</td>\n",
       "      <td>3162807</td>\n",
       "      <td>São João Evangelista</td>\n",
       "      <td>IFMG</td>\n",
       "      <td>MG</td>\n",
       "      <td>Guanhães</td>\n",
       "      <td>Vale do Rio Doce</td>\n",
       "      <td>Região Sudeste</td>\n",
       "    </tr>\n",
       "  </tbody>\n",
       "</table>\n",
       "<p>5 rows × 35 columns</p>\n",
       "</div>"
      ],
      "text/plain": [
       "  Sexo   Renda Familiar  Cor / Raça  Idade  Faixa Etária  Código da Matrícula  \\\n",
       "0      F    2,5<RFP<=3,5      Preta   17.0  15 a 19 anos             66777851   \n",
       "1      F      0<RFP<=0,5      Preta   17.0  15 a 19 anos             66777845   \n",
       "2      M   NÃO DECLARADA      Preta   17.0  15 a 19 anos             66777623   \n",
       "3      F      1<RFP<=1,5      Preta   17.0  15 a 19 anos             66777249   \n",
       "4      F      0<RFP<=0,5      Preta   18.0  15 a 19 anos             66774784   \n",
       "\n",
       "  Data de Ocorrência da Matrícula Situação da Matrícula   \\\n",
       "0                      01/02/2016              CONCLUÍDA   \n",
       "1                      01/02/2016              CONCLUÍDA   \n",
       "2                      01/02/2016              CONCLUÍDA   \n",
       "3                      01/02/2016              CONCLUÍDA   \n",
       "4                      01/03/2016              CONCLUÍDA   \n",
       "\n",
       "  Categoria de Situação Mês de Ocorrência da Situação  ...  \\\n",
       "0           Concluintes                    01/12/2018  ...   \n",
       "1           Concluintes                    01/12/2018  ...   \n",
       "2           Concluintes                    01/12/2018  ...   \n",
       "3           Concluintes                    01/12/2018  ...   \n",
       "4           Concluintes                    01/12/2018  ...   \n",
       "\n",
       "  Fator de Esforço de Curso  Código da Unidade de Ensino - SISTEC  \\\n",
       "0                      1,25                               42071.0   \n",
       "1                      1,25                               42071.0   \n",
       "2                       1,3                               14038.0   \n",
       "3                       1,3                               14038.0   \n",
       "4                       1,2                                2995.0   \n",
       "\n",
       "             Unidade de Ensino Código do Município com DV  \\\n",
       "0         Campus Teófilo Otoni                    3168606   \n",
       "1         Campus Teófilo Otoni                    3168606   \n",
       "2           Campus Votuporanga                    3557105   \n",
       "3           Campus Votuporanga                    3557105   \n",
       "4  Campus São João Evangelista                    3162807   \n",
       "\n",
       "              Município  Instituição  UF   Microrregião  \\\n",
       "0         Teófilo Otoni        IFNMG  MG  Teófilo Otoni   \n",
       "1         Teófilo Otoni        IFNMG  MG  Teófilo Otoni   \n",
       "2           Votuporanga         IFSP  SP    Votuporanga   \n",
       "3           Votuporanga         IFSP  SP    Votuporanga   \n",
       "4  São João Evangelista         IFMG  MG       Guanhães   \n",
       "\n",
       "             Mesorregião          Região  \n",
       "0         Vale do Mucuri  Região Sudeste  \n",
       "1         Vale do Mucuri  Região Sudeste  \n",
       "2  São José do Rio Preto  Região Sudeste  \n",
       "3  São José do Rio Preto  Região Sudeste  \n",
       "4       Vale do Rio Doce  Região Sudeste  \n",
       "\n",
       "[5 rows x 35 columns]"
      ]
     },
     "execution_count": 1,
     "metadata": {},
     "output_type": "execute_result"
    }
   ],
   "source": [
    "import pandas as pd\n",
    "\n",
    "df_2018 = pd.read_csv(\n",
    "    '../microdados_matriculas_2018.csv', \n",
    "    encoding='cp1252', \n",
    "    sep=';'\n",
    ")\n",
    "df_2018.head()"
   ]
  },
  {
   "cell_type": "markdown",
   "id": "d3902f84",
   "metadata": {},
   "source": [
    "### Verificando nome das colunas:"
   ]
  },
  {
   "cell_type": "code",
   "execution_count": 2,
   "id": "e5f30652",
   "metadata": {},
   "outputs": [
    {
     "data": {
      "text/plain": [
       "['Sexo  ',\n",
       " 'Renda Familiar ',\n",
       " 'Cor / Raça',\n",
       " 'Idade',\n",
       " 'Faixa Etária',\n",
       " 'Código da Matrícula',\n",
       " 'Data de Ocorrência da Matrícula',\n",
       " 'Situação da Matrícula ',\n",
       " 'Categoria de Situação',\n",
       " 'Mês de Ocorrência da Situação',\n",
       " 'Turno',\n",
       " 'Código do Ciclo Matrícula',\n",
       " 'Data de Início do Ciclo',\n",
       " 'Data de Fim Previsto do Ciclo',\n",
       " 'Vagas Ofertadas',\n",
       " 'Total de Inscritos',\n",
       " 'Fonte de Financiamento',\n",
       " 'Carga Horária do Curso',\n",
       " 'Carga Horária Mínima Regulamentada',\n",
       " 'Eixo Tecnológico',\n",
       " 'Subeixo Tecnológico',\n",
       " 'Modalidade de Ensino ',\n",
       " 'Tipo de Curso',\n",
       " 'Tipo de Oferta',\n",
       " 'Nome do Curso',\n",
       " 'Fator de Esforço de Curso',\n",
       " 'Código da Unidade de Ensino - SISTEC',\n",
       " 'Unidade de Ensino',\n",
       " 'Código do Município com DV',\n",
       " 'Município',\n",
       " 'Instituição',\n",
       " 'UF',\n",
       " 'Microrregião',\n",
       " 'Mesorregião',\n",
       " 'Região']"
      ]
     },
     "execution_count": 2,
     "metadata": {},
     "output_type": "execute_result"
    }
   ],
   "source": [
    "df_2018.columns.tolist()"
   ]
  },
  {
   "cell_type": "markdown",
   "id": "1ef1282f",
   "metadata": {},
   "source": [
    "### Verificando quantidade total de matrículas 2018:"
   ]
  },
  {
   "cell_type": "code",
   "execution_count": 4,
   "id": "5ae0af99",
   "metadata": {},
   "outputs": [
    {
     "data": {
      "text/plain": [
       "(24369, 39)"
      ]
     },
     "execution_count": 4,
     "metadata": {},
     "output_type": "execute_result"
    }
   ],
   "source": [
    "df_2018['dt_ocorrencia_matricula'] = pd.to_datetime(df_2018['Data de Ocorrência da Matrícula'], format='%d/%m/%Y')\n",
    "df_2018['ano_ocorrencia_matricula'] = df_2018['dt_ocorrencia_matricula'].dt.year\n",
    "df_2018['dt_fim_ciclo'] = pd.to_datetime(df_2018['Data de Fim Previsto do Ciclo'], format='%d/%m/%Y')\n",
    "df_2018['ano_fim_ciclo'] = df_2018['dt_fim_ciclo'].dt.year\n",
    "\n",
    "df_2018_qtd_matriculas = df_2018[(df_2018['Instituição'] == 'IFSUL')]\n",
    "df_2018_qtd_matriculas.shape"
   ]
  },
  {
   "cell_type": "markdown",
   "id": "13e1ca71",
   "metadata": {},
   "source": [
    "### Filtrando matrículas por tipo de oferta Integrado e Proeja Integrado:"
   ]
  },
  {
   "cell_type": "code",
   "execution_count": 5,
   "id": "a3d5181d",
   "metadata": {},
   "outputs": [
    {
     "data": {
      "text/plain": [
       "[7023, 720]"
      ]
     },
     "execution_count": 5,
     "metadata": {},
     "output_type": "execute_result"
    }
   ],
   "source": [
    "import numpy as np\n",
    "import statistics\n",
    "\n",
    "f_integrado = df_2018_qtd_matriculas[(df_2018_qtd_matriculas['Tipo de Oferta'] == 'Integrado')]\n",
    "qtd_matriculas_integrado = f_integrado.groupby(['Tipo de Oferta', 'Situação da Matrícula '])['Tipo de Oferta'].count().sum()\n",
    "\n",
    "f_proeja = df_2018_qtd_matriculas[(df_2018_qtd_matriculas['Tipo de Oferta'] == 'PROEJA - Integrado')]\n",
    "qtd_matriculas_proeja = f_proeja.groupby(['Tipo de Oferta', 'Situação da Matrícula '])['Tipo de Oferta'].count().sum() \n",
    "\n",
    "lista_qtd_matriculas_cti_eja_2018 = [qtd_matriculas_integrado,qtd_matriculas_proeja]\n",
    "\n",
    "lista_qtd_matriculas_cti_eja_2018"
   ]
  },
  {
   "cell_type": "code",
   "execution_count": 6,
   "id": "f8470e7e",
   "metadata": {},
   "outputs": [
    {
     "data": {
      "text/plain": [
       "[308, 106]"
      ]
     },
     "execution_count": 6,
     "metadata": {},
     "output_type": "execute_result"
    }
   ],
   "source": [
    "# filtrando evadidos\n",
    "filtered_integrado = f_integrado[(f_integrado['Situação da Matrícula '] == 'ABANDONO')]\n",
    "qtd_evadidos_integrado = filtered_integrado.groupby(['Tipo de Oferta', 'Situação da Matrícula '])['Tipo de Oferta'].count().sum()\n",
    "\n",
    "filtered_proeja = f_proeja[(f_proeja['Situação da Matrícula '] == 'ABANDONO')]\n",
    "qtd_evadidos_proeja = filtered_proeja.groupby(['Tipo de Oferta', 'Situação da Matrícula '])['Tipo de Oferta'].count().sum()\n",
    "\n",
    "lista_evadidos = [qtd_evadidos_integrado, qtd_evadidos_proeja]\n",
    "lista_evadidos"
   ]
  },
  {
   "cell_type": "markdown",
   "id": "f382b970",
   "metadata": {},
   "source": [
    "### Salvando informações em arquivo csv"
   ]
  },
  {
   "cell_type": "code",
   "execution_count": 7,
   "id": "81e8f527",
   "metadata": {},
   "outputs": [],
   "source": [
    "a = np.asarray(lista_evadidos)\n",
    "a.tofile('tmp_files/evadidos-cti-eja-2018.csv', sep=',')"
   ]
  }
 ],
 "metadata": {
  "kernelspec": {
   "display_name": "Python 3 (ipykernel)",
   "language": "python",
   "name": "python3"
  },
  "language_info": {
   "codemirror_mode": {
    "name": "ipython",
    "version": 3
   },
   "file_extension": ".py",
   "mimetype": "text/x-python",
   "name": "python",
   "nbconvert_exporter": "python",
   "pygments_lexer": "ipython3",
   "version": "3.9.12"
  }
 },
 "nbformat": 4,
 "nbformat_minor": 5
}
