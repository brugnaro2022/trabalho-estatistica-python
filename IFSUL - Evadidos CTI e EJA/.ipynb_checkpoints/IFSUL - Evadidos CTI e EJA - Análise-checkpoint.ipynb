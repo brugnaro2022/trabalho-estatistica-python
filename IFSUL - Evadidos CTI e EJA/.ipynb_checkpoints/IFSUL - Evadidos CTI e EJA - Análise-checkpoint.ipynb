{
 "cells": [
  {
   "cell_type": "code",
   "execution_count": 1,
   "id": "60b80afd",
   "metadata": {},
   "outputs": [
    {
     "data": {
      "text/plain": [
       "array([375,  90])"
      ]
     },
     "execution_count": 1,
     "metadata": {},
     "output_type": "execute_result"
    }
   ],
   "source": [
    "import numpy as np\n",
    "import statistics\n",
    "\n",
    "# Leitura dados de evadidos 2017 - Integrado e Proeja\n",
    "data_2017 = np.genfromtxt('tmp_files/evadidos-cti-eja-2017.csv', delimiter=',', dtype=None)\n",
    "data_2017"
   ]
  },
  {
   "cell_type": "code",
   "execution_count": 2,
   "id": "d72f22ce",
   "metadata": {},
   "outputs": [
    {
     "data": {
      "text/plain": [
       "array([308, 106])"
      ]
     },
     "execution_count": 2,
     "metadata": {},
     "output_type": "execute_result"
    }
   ],
   "source": [
    "# Leitura dados de evadidos 2018 - Integrado e Proeja\n",
    "data_2018 = np.genfromtxt('tmp_files/evadidos-cti-eja-2018.csv', delimiter=',', dtype=None)\n",
    "data_2018"
   ]
  },
  {
   "cell_type": "code",
   "execution_count": 3,
   "id": "490b4a3f",
   "metadata": {},
   "outputs": [
    {
     "data": {
      "text/plain": [
       "array([327,  91])"
      ]
     },
     "execution_count": 3,
     "metadata": {},
     "output_type": "execute_result"
    }
   ],
   "source": [
    "# Leitura dados de evadidos 2019 - Integrado e Proeja\n",
    "data_2019 = np.genfromtxt('tmp_files/evadidos-cti-eja-2019.csv', delimiter=',', dtype=None)\n",
    "data_2019"
   ]
  },
  {
   "cell_type": "code",
   "execution_count": 4,
   "id": "99863133",
   "metadata": {},
   "outputs": [
    {
     "data": {
      "text/plain": [
       "array([130,  58])"
      ]
     },
     "execution_count": 4,
     "metadata": {},
     "output_type": "execute_result"
    }
   ],
   "source": [
    "# Leitura dados de evadidos 2020 - Integrado e Proeja\n",
    "data_2020 = np.genfromtxt('tmp_files/evadidos-cti-eja-2020.csv', delimiter=',', dtype=None)\n",
    "data_2020"
   ]
  },
  {
   "cell_type": "code",
   "execution_count": 5,
   "id": "4c8a8a10",
   "metadata": {},
   "outputs": [
    {
     "data": {
      "text/plain": [
       "[58, 90, 91, 106, 130, 308, 327, 375]"
      ]
     },
     "execution_count": 5,
     "metadata": {},
     "output_type": "execute_result"
    }
   ],
   "source": [
    "# concatenando valores\n",
    "lista_quantidades = np.concatenate((data_2017,data_2018,data_2019,data_2020))\n",
    "sorted(lista_quantidades)"
   ]
  },
  {
   "cell_type": "code",
   "execution_count": 6,
   "id": "b333a104",
   "metadata": {},
   "outputs": [
    {
     "data": {
      "text/plain": [
       "185"
      ]
     },
     "execution_count": 6,
     "metadata": {},
     "output_type": "execute_result"
    }
   ],
   "source": [
    "# média\n",
    "statistics.mean(lista_quantidades)"
   ]
  },
  {
   "cell_type": "code",
   "execution_count": 7,
   "id": "b6aa8e9b",
   "metadata": {},
   "outputs": [
    {
     "data": {
      "text/plain": [
       "118.0"
      ]
     },
     "execution_count": 7,
     "metadata": {},
     "output_type": "execute_result"
    }
   ],
   "source": [
    "# mediana\n",
    "statistics.median(lista_quantidades)"
   ]
  },
  {
   "cell_type": "code",
   "execution_count": 8,
   "id": "6924af90",
   "metadata": {},
   "outputs": [
    {
     "data": {
      "text/plain": [
       "375"
      ]
     },
     "execution_count": 8,
     "metadata": {},
     "output_type": "execute_result"
    }
   ],
   "source": [
    "# moda\n",
    "statistics.mode(lista_quantidades)"
   ]
  },
  {
   "cell_type": "code",
   "execution_count": 9,
   "id": "fabc3881",
   "metadata": {},
   "outputs": [
    {
     "data": {
      "text/plain": [
       "16377"
      ]
     },
     "execution_count": 9,
     "metadata": {},
     "output_type": "execute_result"
    }
   ],
   "source": [
    "# variância\n",
    "statistics.variance(lista_quantidades)"
   ]
  },
  {
   "cell_type": "code",
   "execution_count": 10,
   "id": "4d17aa6b",
   "metadata": {},
   "outputs": [
    {
     "name": "stdout",
     "output_type": "stream",
     "text": [
      "127.97\n"
     ]
    }
   ],
   "source": [
    "# desvio padrão\n",
    "print('{:.2f}'.format(statistics.stdev(lista_quantidades)))"
   ]
  }
 ],
 "metadata": {
  "kernelspec": {
   "display_name": "Python 3 (ipykernel)",
   "language": "python",
   "name": "python3"
  },
  "language_info": {
   "codemirror_mode": {
    "name": "ipython",
    "version": 3
   },
   "file_extension": ".py",
   "mimetype": "text/x-python",
   "name": "python",
   "nbconvert_exporter": "python",
   "pygments_lexer": "ipython3",
   "version": "3.9.12"
  }
 },
 "nbformat": 4,
 "nbformat_minor": 5
}
