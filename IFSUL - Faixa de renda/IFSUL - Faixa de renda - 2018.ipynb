{
 "cells": [
  {
   "cell_type": "markdown",
   "id": "5f663b1a",
   "metadata": {},
   "source": [
    "### IFSUL - Faixa de renda per capita familiar do aluno CTI e EJA - 2018"
   ]
  },
  {
   "cell_type": "markdown",
   "id": "5b93ace5",
   "metadata": {},
   "source": [
    "#### Data de atualização dos dados: 04/07/2019"
   ]
  },
  {
   "cell_type": "code",
   "execution_count": 2,
   "id": "65f58fbc",
   "metadata": {},
   "outputs": [
    {
     "data": {
      "text/html": [
       "<div>\n",
       "<style scoped>\n",
       "    .dataframe tbody tr th:only-of-type {\n",
       "        vertical-align: middle;\n",
       "    }\n",
       "\n",
       "    .dataframe tbody tr th {\n",
       "        vertical-align: top;\n",
       "    }\n",
       "\n",
       "    .dataframe thead th {\n",
       "        text-align: right;\n",
       "    }\n",
       "</style>\n",
       "<table border=\"1\" class=\"dataframe\">\n",
       "  <thead>\n",
       "    <tr style=\"text-align: right;\">\n",
       "      <th></th>\n",
       "      <th>Sexo</th>\n",
       "      <th>Renda Familiar</th>\n",
       "      <th>Cor / Raça</th>\n",
       "      <th>Idade</th>\n",
       "      <th>Faixa Etária</th>\n",
       "      <th>Código da Matrícula</th>\n",
       "      <th>Data de Ocorrência da Matrícula</th>\n",
       "      <th>Situação da Matrícula</th>\n",
       "      <th>Categoria de Situação</th>\n",
       "      <th>Mês de Ocorrência da Situação</th>\n",
       "      <th>...</th>\n",
       "      <th>Fator de Esforço de Curso</th>\n",
       "      <th>Código da Unidade de Ensino - SISTEC</th>\n",
       "      <th>Unidade de Ensino</th>\n",
       "      <th>Código do Município com DV</th>\n",
       "      <th>Município</th>\n",
       "      <th>Instituição</th>\n",
       "      <th>UF</th>\n",
       "      <th>Microrregião</th>\n",
       "      <th>Mesorregião</th>\n",
       "      <th>Região</th>\n",
       "    </tr>\n",
       "  </thead>\n",
       "  <tbody>\n",
       "    <tr>\n",
       "      <th>0</th>\n",
       "      <td>F</td>\n",
       "      <td>2,5&lt;RFP&lt;=3,5</td>\n",
       "      <td>Preta</td>\n",
       "      <td>17.0</td>\n",
       "      <td>15 a 19 anos</td>\n",
       "      <td>66777851</td>\n",
       "      <td>01/02/2016</td>\n",
       "      <td>CONCLUÍDA</td>\n",
       "      <td>Concluintes</td>\n",
       "      <td>01/12/2018</td>\n",
       "      <td>...</td>\n",
       "      <td>1,25</td>\n",
       "      <td>42071.0</td>\n",
       "      <td>Campus Teófilo Otoni</td>\n",
       "      <td>3168606</td>\n",
       "      <td>Teófilo Otoni</td>\n",
       "      <td>IFNMG</td>\n",
       "      <td>MG</td>\n",
       "      <td>Teófilo Otoni</td>\n",
       "      <td>Vale do Mucuri</td>\n",
       "      <td>Região Sudeste</td>\n",
       "    </tr>\n",
       "    <tr>\n",
       "      <th>1</th>\n",
       "      <td>F</td>\n",
       "      <td>0&lt;RFP&lt;=0,5</td>\n",
       "      <td>Preta</td>\n",
       "      <td>17.0</td>\n",
       "      <td>15 a 19 anos</td>\n",
       "      <td>66777845</td>\n",
       "      <td>01/02/2016</td>\n",
       "      <td>CONCLUÍDA</td>\n",
       "      <td>Concluintes</td>\n",
       "      <td>01/12/2018</td>\n",
       "      <td>...</td>\n",
       "      <td>1,25</td>\n",
       "      <td>42071.0</td>\n",
       "      <td>Campus Teófilo Otoni</td>\n",
       "      <td>3168606</td>\n",
       "      <td>Teófilo Otoni</td>\n",
       "      <td>IFNMG</td>\n",
       "      <td>MG</td>\n",
       "      <td>Teófilo Otoni</td>\n",
       "      <td>Vale do Mucuri</td>\n",
       "      <td>Região Sudeste</td>\n",
       "    </tr>\n",
       "    <tr>\n",
       "      <th>2</th>\n",
       "      <td>M</td>\n",
       "      <td>NÃO DECLARADA</td>\n",
       "      <td>Preta</td>\n",
       "      <td>17.0</td>\n",
       "      <td>15 a 19 anos</td>\n",
       "      <td>66777623</td>\n",
       "      <td>01/02/2016</td>\n",
       "      <td>CONCLUÍDA</td>\n",
       "      <td>Concluintes</td>\n",
       "      <td>01/12/2018</td>\n",
       "      <td>...</td>\n",
       "      <td>1,3</td>\n",
       "      <td>14038.0</td>\n",
       "      <td>Campus Votuporanga</td>\n",
       "      <td>3557105</td>\n",
       "      <td>Votuporanga</td>\n",
       "      <td>IFSP</td>\n",
       "      <td>SP</td>\n",
       "      <td>Votuporanga</td>\n",
       "      <td>São José do Rio Preto</td>\n",
       "      <td>Região Sudeste</td>\n",
       "    </tr>\n",
       "    <tr>\n",
       "      <th>3</th>\n",
       "      <td>F</td>\n",
       "      <td>1&lt;RFP&lt;=1,5</td>\n",
       "      <td>Preta</td>\n",
       "      <td>17.0</td>\n",
       "      <td>15 a 19 anos</td>\n",
       "      <td>66777249</td>\n",
       "      <td>01/02/2016</td>\n",
       "      <td>CONCLUÍDA</td>\n",
       "      <td>Concluintes</td>\n",
       "      <td>01/12/2018</td>\n",
       "      <td>...</td>\n",
       "      <td>1,3</td>\n",
       "      <td>14038.0</td>\n",
       "      <td>Campus Votuporanga</td>\n",
       "      <td>3557105</td>\n",
       "      <td>Votuporanga</td>\n",
       "      <td>IFSP</td>\n",
       "      <td>SP</td>\n",
       "      <td>Votuporanga</td>\n",
       "      <td>São José do Rio Preto</td>\n",
       "      <td>Região Sudeste</td>\n",
       "    </tr>\n",
       "    <tr>\n",
       "      <th>4</th>\n",
       "      <td>F</td>\n",
       "      <td>0&lt;RFP&lt;=0,5</td>\n",
       "      <td>Preta</td>\n",
       "      <td>18.0</td>\n",
       "      <td>15 a 19 anos</td>\n",
       "      <td>66774784</td>\n",
       "      <td>01/03/2016</td>\n",
       "      <td>CONCLUÍDA</td>\n",
       "      <td>Concluintes</td>\n",
       "      <td>01/12/2018</td>\n",
       "      <td>...</td>\n",
       "      <td>1,2</td>\n",
       "      <td>2995.0</td>\n",
       "      <td>Campus São João Evangelista</td>\n",
       "      <td>3162807</td>\n",
       "      <td>São João Evangelista</td>\n",
       "      <td>IFMG</td>\n",
       "      <td>MG</td>\n",
       "      <td>Guanhães</td>\n",
       "      <td>Vale do Rio Doce</td>\n",
       "      <td>Região Sudeste</td>\n",
       "    </tr>\n",
       "  </tbody>\n",
       "</table>\n",
       "<p>5 rows × 35 columns</p>\n",
       "</div>"
      ],
      "text/plain": [
       "  Sexo   Renda Familiar  Cor / Raça  Idade  Faixa Etária  Código da Matrícula  \\\n",
       "0      F    2,5<RFP<=3,5      Preta   17.0  15 a 19 anos             66777851   \n",
       "1      F      0<RFP<=0,5      Preta   17.0  15 a 19 anos             66777845   \n",
       "2      M   NÃO DECLARADA      Preta   17.0  15 a 19 anos             66777623   \n",
       "3      F      1<RFP<=1,5      Preta   17.0  15 a 19 anos             66777249   \n",
       "4      F      0<RFP<=0,5      Preta   18.0  15 a 19 anos             66774784   \n",
       "\n",
       "  Data de Ocorrência da Matrícula Situação da Matrícula   \\\n",
       "0                      01/02/2016              CONCLUÍDA   \n",
       "1                      01/02/2016              CONCLUÍDA   \n",
       "2                      01/02/2016              CONCLUÍDA   \n",
       "3                      01/02/2016              CONCLUÍDA   \n",
       "4                      01/03/2016              CONCLUÍDA   \n",
       "\n",
       "  Categoria de Situação Mês de Ocorrência da Situação  ...  \\\n",
       "0           Concluintes                    01/12/2018  ...   \n",
       "1           Concluintes                    01/12/2018  ...   \n",
       "2           Concluintes                    01/12/2018  ...   \n",
       "3           Concluintes                    01/12/2018  ...   \n",
       "4           Concluintes                    01/12/2018  ...   \n",
       "\n",
       "  Fator de Esforço de Curso  Código da Unidade de Ensino - SISTEC  \\\n",
       "0                      1,25                               42071.0   \n",
       "1                      1,25                               42071.0   \n",
       "2                       1,3                               14038.0   \n",
       "3                       1,3                               14038.0   \n",
       "4                       1,2                                2995.0   \n",
       "\n",
       "             Unidade de Ensino Código do Município com DV  \\\n",
       "0         Campus Teófilo Otoni                    3168606   \n",
       "1         Campus Teófilo Otoni                    3168606   \n",
       "2           Campus Votuporanga                    3557105   \n",
       "3           Campus Votuporanga                    3557105   \n",
       "4  Campus São João Evangelista                    3162807   \n",
       "\n",
       "              Município  Instituição  UF   Microrregião  \\\n",
       "0         Teófilo Otoni        IFNMG  MG  Teófilo Otoni   \n",
       "1         Teófilo Otoni        IFNMG  MG  Teófilo Otoni   \n",
       "2           Votuporanga         IFSP  SP    Votuporanga   \n",
       "3           Votuporanga         IFSP  SP    Votuporanga   \n",
       "4  São João Evangelista         IFMG  MG       Guanhães   \n",
       "\n",
       "             Mesorregião          Região  \n",
       "0         Vale do Mucuri  Região Sudeste  \n",
       "1         Vale do Mucuri  Região Sudeste  \n",
       "2  São José do Rio Preto  Região Sudeste  \n",
       "3  São José do Rio Preto  Região Sudeste  \n",
       "4       Vale do Rio Doce  Região Sudeste  \n",
       "\n",
       "[5 rows x 35 columns]"
      ]
     },
     "execution_count": 2,
     "metadata": {},
     "output_type": "execute_result"
    }
   ],
   "source": [
    "# Leitura dos microdados 2018\n",
    "import pandas as pd\n",
    "\n",
    "df_2018 = pd.read_csv('../microdados_matriculas_2018.csv', sep=';', encoding='cp1252')\n",
    "df_2018.head()"
   ]
  },
  {
   "cell_type": "code",
   "execution_count": 3,
   "id": "3a94aaf3",
   "metadata": {},
   "outputs": [
    {
     "data": {
      "text/plain": [
       "['Sexo  ',\n",
       " 'Renda Familiar ',\n",
       " 'Cor / Raça',\n",
       " 'Idade',\n",
       " 'Faixa Etária',\n",
       " 'Código da Matrícula',\n",
       " 'Data de Ocorrência da Matrícula',\n",
       " 'Situação da Matrícula ',\n",
       " 'Categoria de Situação',\n",
       " 'Mês de Ocorrência da Situação',\n",
       " 'Turno',\n",
       " 'Código do Ciclo Matrícula',\n",
       " 'Data de Início do Ciclo',\n",
       " 'Data de Fim Previsto do Ciclo',\n",
       " 'Vagas Ofertadas',\n",
       " 'Total de Inscritos',\n",
       " 'Fonte de Financiamento',\n",
       " 'Carga Horária do Curso',\n",
       " 'Carga Horária Mínima Regulamentada',\n",
       " 'Eixo Tecnológico',\n",
       " 'Subeixo Tecnológico',\n",
       " 'Modalidade de Ensino ',\n",
       " 'Tipo de Curso',\n",
       " 'Tipo de Oferta',\n",
       " 'Nome do Curso',\n",
       " 'Fator de Esforço de Curso',\n",
       " 'Código da Unidade de Ensino - SISTEC',\n",
       " 'Unidade de Ensino',\n",
       " 'Código do Município com DV',\n",
       " 'Município',\n",
       " 'Instituição',\n",
       " 'UF',\n",
       " 'Microrregião',\n",
       " 'Mesorregião',\n",
       " 'Região']"
      ]
     },
     "execution_count": 3,
     "metadata": {},
     "output_type": "execute_result"
    }
   ],
   "source": [
    "# Listando nome das colunas\n",
    "df_2018.columns.tolist()"
   ]
  },
  {
   "cell_type": "code",
   "execution_count": 4,
   "id": "eb252377",
   "metadata": {},
   "outputs": [
    {
     "data": {
      "text/plain": [
       "(24369, 39)"
      ]
     },
     "execution_count": 4,
     "metadata": {},
     "output_type": "execute_result"
    }
   ],
   "source": [
    "# Filtrando para obter quantidade de matrículas IFSUL\n",
    "df_2018[\"dt_ocorrencia_matricula\"] = pd.to_datetime(df_2018[\"Data de Ocorrência da Matrícula\"], format='%d/%m/%Y')\n",
    "df_2018[\"ano_ocorrencia_matricula\"] = df_2018[\"dt_ocorrencia_matricula\"].dt.year\n",
    "df_2018[\"dt_fim_ciclo\"] = pd.to_datetime(df_2018[\"Data de Fim Previsto do Ciclo\"], format='%d/%m/%Y')\n",
    "df_2018[\"ano_fim_ciclo\"] = df_2018[\"dt_fim_ciclo\"].dt.year\n",
    "\n",
    "df_2018_qtd_matriculas = df_2018[(df_2018[\"Instituição\"] == \"IFSUL\")]\n",
    "df_2018_qtd_matriculas.shape"
   ]
  },
  {
   "cell_type": "code",
   "execution_count": 9,
   "id": "65179ffe",
   "metadata": {},
   "outputs": [
    {
     "data": {
      "text/plain": [
       "5888               Integrado\n",
       "7865           Não se aplica\n",
       "81436            Subsequente\n",
       "203852          Concomitante\n",
       "292880    PROEJA - Integrado\n",
       "Name: Tipo de Oferta, dtype: object"
      ]
     },
     "execution_count": 9,
     "metadata": {},
     "output_type": "execute_result"
    }
   ],
   "source": [
    "# Verificando tipo de oferta\n",
    "df_2018_qtd_matriculas['Tipo de Oferta'].drop_duplicates()"
   ]
  },
  {
   "cell_type": "code",
   "execution_count": 10,
   "id": "0f4ba18d",
   "metadata": {},
   "outputs": [
    {
     "data": {
      "text/plain": [
       "Tipo de Oferta      Renda Familiar \n",
       "Integrado           0,5<RFP<=1          664\n",
       "                    0<RFP<=0,5          514\n",
       "                    1,5<RFP<=2,5        285\n",
       "                    1<RFP<=1,5          670\n",
       "                    2,5<RFP<=3,5        125\n",
       "                    NÃO DECLARADA      4559\n",
       "                    RFP>3,5             206\n",
       "PROEJA - Integrado  0,5<RFP<=1          144\n",
       "                    0<RFP<=0,5          132\n",
       "                    1,5<RFP<=2,5         42\n",
       "                    1<RFP<=1,5          121\n",
       "                    2,5<RFP<=3,5         18\n",
       "                    NÃO DECLARADA       254\n",
       "                    RFP>3,5               9\n",
       "Name: Renda Familiar , dtype: int64"
      ]
     },
     "execution_count": 10,
     "metadata": {},
     "output_type": "execute_result"
    }
   ],
   "source": [
    "# Filtrando para obter faixa de renda para Integrado e Proeja Integrado matrículas IFSUL\n",
    "filtro = df_2018_qtd_matriculas[\n",
    "    (df_2018_qtd_matriculas['Tipo de Oferta'] != 'Não se aplica')\n",
    "    & (df_2018_qtd_matriculas['Tipo de Oferta'] != 'Concomitante')\n",
    "    & (df_2018_qtd_matriculas['Tipo de Oferta'] != 'Subsequente')\n",
    "]\n",
    "\n",
    "filtro_tipo_oferta = filtro.groupby(['Tipo de Oferta','Renda Familiar '])['Renda Familiar '].count()\n",
    "filtro_tipo_oferta"
   ]
  },
  {
   "cell_type": "code",
   "execution_count": 11,
   "id": "6d2c427a",
   "metadata": {},
   "outputs": [
    {
     "data": {
      "text/plain": [
       "553.0714285714286"
      ]
     },
     "execution_count": 11,
     "metadata": {},
     "output_type": "execute_result"
    }
   ],
   "source": [
    "import statistics\n",
    "\n",
    "# Média\n",
    "statistics.mean(filtro_tipo_oferta)"
   ]
  },
  {
   "cell_type": "code",
   "execution_count": 12,
   "id": "f467d264",
   "metadata": {},
   "outputs": [
    {
     "data": {
      "text/plain": [
       "175.0"
      ]
     },
     "execution_count": 12,
     "metadata": {},
     "output_type": "execute_result"
    }
   ],
   "source": [
    "# Mediana\n",
    "statistics.median(filtro_tipo_oferta)"
   ]
  },
  {
   "cell_type": "code",
   "execution_count": 13,
   "id": "81bf8a6e",
   "metadata": {},
   "outputs": [
    {
     "data": {
      "text/plain": [
       "664"
      ]
     },
     "execution_count": 13,
     "metadata": {},
     "output_type": "execute_result"
    }
   ],
   "source": [
    "# Moda\n",
    "statistics.mode(filtro_tipo_oferta)"
   ]
  },
  {
   "cell_type": "code",
   "execution_count": 14,
   "id": "818af0dd",
   "metadata": {},
   "outputs": [
    {
     "data": {
      "text/plain": [
       "1378062.532967033"
      ]
     },
     "execution_count": 14,
     "metadata": {},
     "output_type": "execute_result"
    }
   ],
   "source": [
    "# Variância\n",
    "statistics.variance(filtro_tipo_oferta)"
   ]
  },
  {
   "cell_type": "code",
   "execution_count": 15,
   "id": "d9bb856d",
   "metadata": {},
   "outputs": [
    {
     "data": {
      "text/plain": [
       "1173.9090820702568"
      ]
     },
     "execution_count": 15,
     "metadata": {},
     "output_type": "execute_result"
    }
   ],
   "source": [
    "# Desvio padrão\n",
    "statistics.stdev(filtro_tipo_oferta)"
   ]
  }
 ],
 "metadata": {
  "kernelspec": {
   "display_name": "Python 3 (ipykernel)",
   "language": "python",
   "name": "python3"
  },
  "language_info": {
   "codemirror_mode": {
    "name": "ipython",
    "version": 3
   },
   "file_extension": ".py",
   "mimetype": "text/x-python",
   "name": "python",
   "nbconvert_exporter": "python",
   "pygments_lexer": "ipython3",
   "version": "3.9.12"
  }
 },
 "nbformat": 4,
 "nbformat_minor": 5
}
