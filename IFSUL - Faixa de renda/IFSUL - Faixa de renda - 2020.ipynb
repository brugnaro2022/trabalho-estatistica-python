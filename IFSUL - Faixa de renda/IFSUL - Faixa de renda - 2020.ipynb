{
 "cells": [
  {
   "cell_type": "markdown",
   "id": "5f663b1a",
   "metadata": {},
   "source": [
    "### IFSUL - Faixa de renda per capita familiar do aluno CTI e EJA - 2020"
   ]
  },
  {
   "cell_type": "markdown",
   "id": "5b93ace5",
   "metadata": {},
   "source": [
    "#### Data de atualização dos dados: 02/12/2021"
   ]
  },
  {
   "cell_type": "code",
   "execution_count": 2,
   "id": "65f58fbc",
   "metadata": {},
   "outputs": [
    {
     "data": {
      "text/html": [
       "<div>\n",
       "<style scoped>\n",
       "    .dataframe tbody tr th:only-of-type {\n",
       "        vertical-align: middle;\n",
       "    }\n",
       "\n",
       "    .dataframe tbody tr th {\n",
       "        vertical-align: top;\n",
       "    }\n",
       "\n",
       "    .dataframe thead th {\n",
       "        text-align: right;\n",
       "    }\n",
       "</style>\n",
       "<table border=\"1\" class=\"dataframe\">\n",
       "  <thead>\n",
       "    <tr style=\"text-align: right;\">\n",
       "      <th></th>\n",
       "      <th>Carga Horaria</th>\n",
       "      <th>Carga Horaria Minima</th>\n",
       "      <th>Categoria de Situação</th>\n",
       "      <th>Cod Unidade</th>\n",
       "      <th>Cor/Raça</th>\n",
       "      <th>Código da Matrícula</th>\n",
       "      <th>Código da Unidade de Ensino - SISTEC</th>\n",
       "      <th>Código do Ciclo de Matrícula</th>\n",
       "      <th>Código do Município com DV</th>\n",
       "      <th>Data de Fim Previsto do Ciclo</th>\n",
       "      <th>...</th>\n",
       "      <th>Vagas Ofertadas</th>\n",
       "      <th>Vagas Regulares AC</th>\n",
       "      <th>Vagas Regulares l1</th>\n",
       "      <th>Vagas Regulares l10</th>\n",
       "      <th>Vagas Regulares l13</th>\n",
       "      <th>Vagas Regulares l14</th>\n",
       "      <th>Vagas Regulares l2</th>\n",
       "      <th>Vagas Regulares l5</th>\n",
       "      <th>Vagas Regulares l6</th>\n",
       "      <th>Vagas Regulares l9</th>\n",
       "    </tr>\n",
       "  </thead>\n",
       "  <tbody>\n",
       "    <tr>\n",
       "      <th>0</th>\n",
       "      <td>3182</td>\n",
       "      <td>800</td>\n",
       "      <td>Concluintes</td>\n",
       "      <td>17</td>\n",
       "      <td>BRANCA</td>\n",
       "      <td>66845709</td>\n",
       "      <td>13791</td>\n",
       "      <td>2016192</td>\n",
       "      <td>5201108</td>\n",
       "      <td>20/12/2018</td>\n",
       "      <td>...</td>\n",
       "      <td>0.0</td>\n",
       "      <td>0.0</td>\n",
       "      <td>0.0</td>\n",
       "      <td>0.0</td>\n",
       "      <td>0.0</td>\n",
       "      <td>0.0</td>\n",
       "      <td>0.0</td>\n",
       "      <td>0.0</td>\n",
       "      <td>0.0</td>\n",
       "      <td>0.0</td>\n",
       "    </tr>\n",
       "    <tr>\n",
       "      <th>1</th>\n",
       "      <td>3641</td>\n",
       "      <td>1200</td>\n",
       "      <td>Concluintes</td>\n",
       "      <td>279</td>\n",
       "      <td>BRANCA</td>\n",
       "      <td>66801823</td>\n",
       "      <td>3508</td>\n",
       "      <td>2016354</td>\n",
       "      <td>5211503</td>\n",
       "      <td>20/12/2018</td>\n",
       "      <td>...</td>\n",
       "      <td>0.0</td>\n",
       "      <td>0.0</td>\n",
       "      <td>0.0</td>\n",
       "      <td>0.0</td>\n",
       "      <td>0.0</td>\n",
       "      <td>0.0</td>\n",
       "      <td>0.0</td>\n",
       "      <td>0.0</td>\n",
       "      <td>0.0</td>\n",
       "      <td>0.0</td>\n",
       "    </tr>\n",
       "    <tr>\n",
       "      <th>2</th>\n",
       "      <td>5800</td>\n",
       "      <td>4000</td>\n",
       "      <td>Concluintes</td>\n",
       "      <td>523</td>\n",
       "      <td>BRANCA</td>\n",
       "      <td>64271041</td>\n",
       "      <td>2956</td>\n",
       "      <td>1859227</td>\n",
       "      <td>5221809</td>\n",
       "      <td>21/12/2018</td>\n",
       "      <td>...</td>\n",
       "      <td>40.0</td>\n",
       "      <td>20.0</td>\n",
       "      <td>3.0</td>\n",
       "      <td>1.0</td>\n",
       "      <td>1.0</td>\n",
       "      <td>1.0</td>\n",
       "      <td>5.0</td>\n",
       "      <td>3.0</td>\n",
       "      <td>5.0</td>\n",
       "      <td>1.0</td>\n",
       "    </tr>\n",
       "    <tr>\n",
       "      <th>3</th>\n",
       "      <td>4370</td>\n",
       "      <td>3600</td>\n",
       "      <td>Evadidos</td>\n",
       "      <td>523</td>\n",
       "      <td>BRANCA</td>\n",
       "      <td>44608044</td>\n",
       "      <td>2956</td>\n",
       "      <td>1206840</td>\n",
       "      <td>5221809</td>\n",
       "      <td>22/12/2016</td>\n",
       "      <td>...</td>\n",
       "      <td>40.0</td>\n",
       "      <td>20.0</td>\n",
       "      <td>3.0</td>\n",
       "      <td>1.0</td>\n",
       "      <td>1.0</td>\n",
       "      <td>1.0</td>\n",
       "      <td>5.0</td>\n",
       "      <td>3.0</td>\n",
       "      <td>5.0</td>\n",
       "      <td>1.0</td>\n",
       "    </tr>\n",
       "    <tr>\n",
       "      <th>4</th>\n",
       "      <td>5800</td>\n",
       "      <td>4000</td>\n",
       "      <td>Concluintes</td>\n",
       "      <td>523</td>\n",
       "      <td>BRANCA</td>\n",
       "      <td>59220389</td>\n",
       "      <td>2956</td>\n",
       "      <td>1859227</td>\n",
       "      <td>5221809</td>\n",
       "      <td>21/12/2018</td>\n",
       "      <td>...</td>\n",
       "      <td>40.0</td>\n",
       "      <td>20.0</td>\n",
       "      <td>3.0</td>\n",
       "      <td>1.0</td>\n",
       "      <td>1.0</td>\n",
       "      <td>1.0</td>\n",
       "      <td>5.0</td>\n",
       "      <td>3.0</td>\n",
       "      <td>5.0</td>\n",
       "      <td>1.0</td>\n",
       "    </tr>\n",
       "  </tbody>\n",
       "</table>\n",
       "<p>5 rows × 54 columns</p>\n",
       "</div>"
      ],
      "text/plain": [
       "   Carga Horaria  Carga Horaria Minima Categoria de Situação  Cod Unidade  \\\n",
       "0           3182                   800           Concluintes           17   \n",
       "1           3641                  1200           Concluintes          279   \n",
       "2           5800                  4000           Concluintes          523   \n",
       "3           4370                  3600              Evadidos          523   \n",
       "4           5800                  4000           Concluintes          523   \n",
       "\n",
       "  Cor/Raça  Código da Matrícula  Código da Unidade de Ensino - SISTEC  \\\n",
       "0   BRANCA             66845709                                 13791   \n",
       "1   BRANCA             66801823                                  3508   \n",
       "2   BRANCA             64271041                                  2956   \n",
       "3   BRANCA             44608044                                  2956   \n",
       "4   BRANCA             59220389                                  2956   \n",
       "\n",
       "   Código do Ciclo de Matrícula  Código do Município com DV  \\\n",
       "0                       2016192                     5201108   \n",
       "1                       2016354                     5211503   \n",
       "2                       1859227                     5221809   \n",
       "3                       1206840                     5221809   \n",
       "4                       1859227                     5221809   \n",
       "\n",
       "  Data de Fim Previsto do Ciclo  ... Vagas Ofertadas Vagas Regulares AC  \\\n",
       "0                    20/12/2018  ...             0.0                0.0   \n",
       "1                    20/12/2018  ...             0.0                0.0   \n",
       "2                    21/12/2018  ...            40.0               20.0   \n",
       "3                    22/12/2016  ...            40.0               20.0   \n",
       "4                    21/12/2018  ...            40.0               20.0   \n",
       "\n",
       "  Vagas Regulares l1 Vagas Regulares l10 Vagas Regulares l13  \\\n",
       "0                0.0                 0.0                 0.0   \n",
       "1                0.0                 0.0                 0.0   \n",
       "2                3.0                 1.0                 1.0   \n",
       "3                3.0                 1.0                 1.0   \n",
       "4                3.0                 1.0                 1.0   \n",
       "\n",
       "  Vagas Regulares l14  Vagas Regulares l2 Vagas Regulares l5  \\\n",
       "0                 0.0                 0.0                0.0   \n",
       "1                 0.0                 0.0                0.0   \n",
       "2                 1.0                 5.0                3.0   \n",
       "3                 1.0                 5.0                3.0   \n",
       "4                 1.0                 5.0                3.0   \n",
       "\n",
       "   Vagas Regulares l6 Vagas Regulares l9  \n",
       "0                 0.0                0.0  \n",
       "1                 0.0                0.0  \n",
       "2                 5.0                1.0  \n",
       "3                 5.0                1.0  \n",
       "4                 5.0                1.0  \n",
       "\n",
       "[5 rows x 54 columns]"
      ]
     },
     "execution_count": 2,
     "metadata": {},
     "output_type": "execute_result"
    }
   ],
   "source": [
    "# Leitura dos microdados 2020\n",
    "import pandas as pd\n",
    "\n",
    "df_2020 = pd.read_csv('../microdados_matriculas_2020.csv', sep=';')\n",
    "df_2020.head()"
   ]
  },
  {
   "cell_type": "code",
   "execution_count": 3,
   "id": "3a94aaf3",
   "metadata": {},
   "outputs": [
    {
     "data": {
      "text/plain": [
       "['Carga Horaria',\n",
       " 'Carga Horaria Minima',\n",
       " 'Categoria de Situação',\n",
       " 'Cod Unidade',\n",
       " 'Cor/Raça',\n",
       " 'Código da Matrícula',\n",
       " 'Código da Unidade de Ensino - SISTEC',\n",
       " 'Código do Ciclo de Matrícula',\n",
       " 'Código do Município com DV',\n",
       " 'Data de Fim Previsto do Ciclo',\n",
       " 'Data de Inicio do Ciclo',\n",
       " 'Data de Ocorrência da Matrícula',\n",
       " 'Eixo Tecnológico',\n",
       " 'Faixa Etária',\n",
       " 'Fator Esforco Curso',\n",
       " 'Fonte de Financiamento',\n",
       " 'Idade',\n",
       " 'Instituição',\n",
       " 'Matrícula 2019',\n",
       " 'Modalidade de Ensino',\n",
       " 'Mês de Ocorrência da Situação',\n",
       " 'Nome de Curso',\n",
       " 'Número de registros',\n",
       " 'Região',\n",
       " 'Renda Familiar',\n",
       " 'Sexo',\n",
       " 'Situação de Matrícula',\n",
       " 'Subeixo Tecnológico',\n",
       " 'Tipo de Curso',\n",
       " 'Tipo de Oferta',\n",
       " 'Tipo de Unidade',\n",
       " 'Tipo Oferta',\n",
       " 'Turno',\n",
       " 'UF',\n",
       " 'Unidade de Ensino',\n",
       " 'Vagas Extraordinárias AC',\n",
       " 'Vagas Extraordinárias l1',\n",
       " 'Vagas Extraordinárias l10',\n",
       " 'Vagas Extraordinárias l13',\n",
       " 'Vagas Extraordinárias l14',\n",
       " 'Vagas Extraordinárias l2',\n",
       " 'Vagas Extraordinárias l5',\n",
       " 'Vagas Extraordinárias l6',\n",
       " 'Vagas Extraordinárias l9',\n",
       " 'Vagas Ofertadas',\n",
       " 'Vagas Regulares AC',\n",
       " 'Vagas Regulares l1',\n",
       " 'Vagas Regulares l10',\n",
       " 'Vagas Regulares l13',\n",
       " 'Vagas Regulares l14',\n",
       " 'Vagas Regulares l2',\n",
       " 'Vagas Regulares l5',\n",
       " 'Vagas Regulares l6',\n",
       " 'Vagas Regulares l9']"
      ]
     },
     "execution_count": 3,
     "metadata": {},
     "output_type": "execute_result"
    }
   ],
   "source": [
    "# Listando nome das colunas\n",
    "df_2020.columns.tolist()"
   ]
  },
  {
   "cell_type": "code",
   "execution_count": 5,
   "id": "eb252377",
   "metadata": {},
   "outputs": [
    {
     "data": {
      "text/plain": [
       "(46349, 58)"
      ]
     },
     "execution_count": 5,
     "metadata": {},
     "output_type": "execute_result"
    }
   ],
   "source": [
    "# Filtrando para obter quantidade de matrículas IFSUL\n",
    "df_2020[\"dt_ocorrencia_matricula\"] = pd.to_datetime(df_2020[\"Data de Ocorrência da Matrícula\"], format='%d/%m/%Y')\n",
    "df_2020[\"ano_ocorrencia_matricula\"] = df_2020[\"dt_ocorrencia_matricula\"].dt.year\n",
    "df_2020[\"dt_fim_ciclo\"] = pd.to_datetime(df_2020[\"Data de Fim Previsto do Ciclo\"], format='%d/%m/%Y')\n",
    "df_2020[\"ano_fim_ciclo\"] = df_2020[\"dt_fim_ciclo\"].dt.year\n",
    "\n",
    "df_2020_qtd_matriculas = df_2020[(df_2020[\"Instituição\"] == \"IFSUL\")]\n",
    "df_2020_qtd_matriculas.shape"
   ]
  },
  {
   "cell_type": "code",
   "execution_count": 20,
   "id": "0f4ba18d",
   "metadata": {},
   "outputs": [
    {
     "data": {
      "text/plain": [
       "Tipo de Oferta      Renda Familiar\n",
       "Integrado           0,5<RFP<=1         945\n",
       "                    0<RFP<=0,5         557\n",
       "                    1,5<RFP<=2,5       588\n",
       "                    1<RFP<=1,5         749\n",
       "                    2,5<RFP<=3,5       259\n",
       "                    Não declarada     4298\n",
       "                    RFP>3,5            302\n",
       "PROEJA - Integrado  0,5<RFP<=1         142\n",
       "                    0<RFP<=0,5         151\n",
       "                    1,5<RFP<=2,5        53\n",
       "                    1<RFP<=1,5          76\n",
       "                    2,5<RFP<=3,5        23\n",
       "                    Não declarada      557\n",
       "                    RFP>3,5             26\n",
       "Name: Renda Familiar, dtype: int64"
      ]
     },
     "execution_count": 20,
     "metadata": {},
     "output_type": "execute_result"
    }
   ],
   "source": [
    "# Filtrando para obter faixa de renda para Integrado e Proeja Integrado matrículas IFSUL\n",
    "filtro = df_2020_qtd_matriculas[\n",
    "    (df_2020_qtd_matriculas['Tipo de Oferta'] != 'Não se aplica')\n",
    "    & (df_2020_qtd_matriculas['Tipo de Oferta'] != 'Concomitante')\n",
    "    & (df_2020_qtd_matriculas['Tipo de Oferta'] != 'Subsequente')\n",
    "]\n",
    "\n",
    "filtro_tipo_oferta = filtro.groupby(['Tipo de Oferta','Renda Familiar'])['Renda Familiar'].count()\n",
    "filtro_tipo_oferta"
   ]
  },
  {
   "cell_type": "code",
   "execution_count": 21,
   "id": "6d2c427a",
   "metadata": {},
   "outputs": [
    {
     "data": {
      "text/plain": [
       "623.2857142857143"
      ]
     },
     "execution_count": 21,
     "metadata": {},
     "output_type": "execute_result"
    }
   ],
   "source": [
    "import statistics\n",
    "\n",
    "# Média\n",
    "statistics.mean(filtro_tipo_oferta)"
   ]
  },
  {
   "cell_type": "code",
   "execution_count": 22,
   "id": "f467d264",
   "metadata": {},
   "outputs": [
    {
     "data": {
      "text/plain": [
       "280.5"
      ]
     },
     "execution_count": 22,
     "metadata": {},
     "output_type": "execute_result"
    }
   ],
   "source": [
    "# Mediana\n",
    "statistics.median(filtro_tipo_oferta)"
   ]
  },
  {
   "cell_type": "code",
   "execution_count": 23,
   "id": "81bf8a6e",
   "metadata": {},
   "outputs": [
    {
     "data": {
      "text/plain": [
       "557"
      ]
     },
     "execution_count": 23,
     "metadata": {},
     "output_type": "execute_result"
    }
   ],
   "source": [
    "# Moda\n",
    "statistics.mode(filtro_tipo_oferta)"
   ]
  },
  {
   "cell_type": "code",
   "execution_count": 24,
   "id": "818af0dd",
   "metadata": {},
   "outputs": [
    {
     "data": {
      "text/plain": [
       "1205024.6813186815"
      ]
     },
     "execution_count": 24,
     "metadata": {},
     "output_type": "execute_result"
    }
   ],
   "source": [
    "# Variância\n",
    "statistics.variance(filtro_tipo_oferta)"
   ]
  },
  {
   "cell_type": "code",
   "execution_count": 27,
   "id": "d9bb856d",
   "metadata": {},
   "outputs": [
    {
     "data": {
      "text/plain": [
       "1097.7361619800458"
      ]
     },
     "execution_count": 27,
     "metadata": {},
     "output_type": "execute_result"
    }
   ],
   "source": [
    "# Desvio padrão\n",
    "statistics.stdev(filtro_tipo_oferta)"
   ]
  }
 ],
 "metadata": {
  "kernelspec": {
   "display_name": "Python 3 (ipykernel)",
   "language": "python",
   "name": "python3"
  },
  "language_info": {
   "codemirror_mode": {
    "name": "ipython",
    "version": 3
   },
   "file_extension": ".py",
   "mimetype": "text/x-python",
   "name": "python",
   "nbconvert_exporter": "python",
   "pygments_lexer": "ipython3",
   "version": "3.9.12"
  }
 },
 "nbformat": 4,
 "nbformat_minor": 5
}
