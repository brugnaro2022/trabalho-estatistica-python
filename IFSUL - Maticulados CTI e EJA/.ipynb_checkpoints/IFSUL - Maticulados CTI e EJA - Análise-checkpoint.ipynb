{
 "cells": [
  {
   "cell_type": "code",
   "execution_count": 48,
   "id": "60b80afd",
   "metadata": {},
   "outputs": [
    {
     "data": {
      "text/plain": [
       "array([6681,  590])"
      ]
     },
     "execution_count": 48,
     "metadata": {},
     "output_type": "execute_result"
    }
   ],
   "source": [
    "import numpy as np\n",
    "import statistics\n",
    "\n",
    "# Leitura dados de matrículas 2017 - Integrado e Proeja\n",
    "data_2017 = np.genfromtxt('tmp_files/matriculados-cti-eja-2017.csv', delimiter=',', dtype=None)\n",
    "data_2017"
   ]
  },
  {
   "cell_type": "code",
   "execution_count": 7,
   "id": "d72f22ce",
   "metadata": {},
   "outputs": [
    {
     "data": {
      "text/plain": [
       "array([7023,  720])"
      ]
     },
     "execution_count": 7,
     "metadata": {},
     "output_type": "execute_result"
    }
   ],
   "source": [
    "# Leitura dados de matrículas 2018 - Integrado e Proeja\n",
    "data_2018 = np.genfromtxt('tmp_files/matriculados-cti-eja-2018.csv', delimiter=',', dtype=None)\n",
    "data_2018"
   ]
  },
  {
   "cell_type": "code",
   "execution_count": 9,
   "id": "490b4a3f",
   "metadata": {},
   "outputs": [
    {
     "data": {
      "text/plain": [
       "array([7350,  693])"
      ]
     },
     "execution_count": 9,
     "metadata": {},
     "output_type": "execute_result"
    }
   ],
   "source": [
    "# Leitura dados de matrículas 2019 - Integrado e Proeja\n",
    "data_2019 = np.genfromtxt('tmp_files/matriculados-cti-eja-2019.csv', delimiter=',', dtype=None)\n",
    "data_2019"
   ]
  },
  {
   "cell_type": "code",
   "execution_count": 10,
   "id": "99863133",
   "metadata": {},
   "outputs": [
    {
     "data": {
      "text/plain": [
       "array([7698, 1028])"
      ]
     },
     "execution_count": 10,
     "metadata": {},
     "output_type": "execute_result"
    }
   ],
   "source": [
    "# Leitura dados de matrículas 2020 - Integrado e Proeja\n",
    "data_2020 = np.genfromtxt('tmp_files/matriculados-cti-eja-2020.csv', delimiter=',', dtype=None)\n",
    "data_2020"
   ]
  },
  {
   "cell_type": "code",
   "execution_count": 27,
   "id": "4c8a8a10",
   "metadata": {},
   "outputs": [
    {
     "data": {
      "text/plain": [
       "[590, 693, 720, 1028, 6681, 7023, 7350, 7698]"
      ]
     },
     "execution_count": 27,
     "metadata": {},
     "output_type": "execute_result"
    }
   ],
   "source": [
    "# concatenando valores\n",
    "lista_quantidades = np.concatenate((data_2017,data_2018,data_2019,data_2020))\n",
    "sorted(lista_quantidades)"
   ]
  },
  {
   "cell_type": "code",
   "execution_count": 28,
   "id": "b333a104",
   "metadata": {},
   "outputs": [
    {
     "data": {
      "text/plain": [
       "3972"
      ]
     },
     "execution_count": 28,
     "metadata": {},
     "output_type": "execute_result"
    }
   ],
   "source": [
    "# média\n",
    "statistics.mean(lista_quantidades)"
   ]
  },
  {
   "cell_type": "code",
   "execution_count": 29,
   "id": "b6aa8e9b",
   "metadata": {},
   "outputs": [
    {
     "data": {
      "text/plain": [
       "3854.5"
      ]
     },
     "execution_count": 29,
     "metadata": {},
     "output_type": "execute_result"
    }
   ],
   "source": [
    "# mediana\n",
    "statistics.median(lista_quantidades)"
   ]
  },
  {
   "cell_type": "code",
   "execution_count": 31,
   "id": "6924af90",
   "metadata": {},
   "outputs": [
    {
     "data": {
      "text/plain": [
       "6681"
      ]
     },
     "execution_count": 31,
     "metadata": {},
     "output_type": "execute_result"
    }
   ],
   "source": [
    "# moda\n",
    "statistics.mode(lista_quantidades)"
   ]
  },
  {
   "cell_type": "code",
   "execution_count": 33,
   "id": "fabc3881",
   "metadata": {},
   "outputs": [
    {
     "data": {
      "text/plain": [
       "11910520"
      ]
     },
     "execution_count": 33,
     "metadata": {},
     "output_type": "execute_result"
    }
   ],
   "source": [
    "# variância\n",
    "statistics.variance(lista_quantidades)"
   ]
  },
  {
   "cell_type": "code",
   "execution_count": 49,
   "id": "4d17aa6b",
   "metadata": {},
   "outputs": [
    {
     "name": "stdout",
     "output_type": "stream",
     "text": [
      "3451.16\n"
     ]
    }
   ],
   "source": [
    "# desvio padrão\n",
    "print('{:.2f}'.format(statistics.stdev(lista_quantidades)))"
   ]
  }
 ],
 "metadata": {
  "kernelspec": {
   "display_name": "Python 3 (ipykernel)",
   "language": "python",
   "name": "python3"
  },
  "language_info": {
   "codemirror_mode": {
    "name": "ipython",
    "version": 3
   },
   "file_extension": ".py",
   "mimetype": "text/x-python",
   "name": "python",
   "nbconvert_exporter": "python",
   "pygments_lexer": "ipython3",
   "version": "3.9.12"
  }
 },
 "nbformat": 4,
 "nbformat_minor": 5
}
