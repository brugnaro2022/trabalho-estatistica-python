{
 "cells": [
  {
   "cell_type": "code",
   "execution_count": 18,
   "id": "4c09afdb",
   "metadata": {},
   "outputs": [
    {
     "data": {
      "text/html": [
       "<div>\n",
       "<style scoped>\n",
       "    .dataframe tbody tr th:only-of-type {\n",
       "        vertical-align: middle;\n",
       "    }\n",
       "\n",
       "    .dataframe tbody tr th {\n",
       "        vertical-align: top;\n",
       "    }\n",
       "\n",
       "    .dataframe thead th {\n",
       "        text-align: right;\n",
       "    }\n",
       "</style>\n",
       "<table border=\"1\" class=\"dataframe\">\n",
       "  <thead>\n",
       "    <tr style=\"text-align: right;\">\n",
       "      <th></th>\n",
       "      <th>Carga Horaria</th>\n",
       "      <th>Carga Horaria Minima</th>\n",
       "      <th>Categoria de Situação</th>\n",
       "      <th>Cod Unidade</th>\n",
       "      <th>Cor/Raça</th>\n",
       "      <th>Código da Matrícula</th>\n",
       "      <th>Código da Unidade de Ensino - SISTEC</th>\n",
       "      <th>Código do Ciclo de Matrícula</th>\n",
       "      <th>Código do Município com DV</th>\n",
       "      <th>Data de Fim Previsto do Ciclo</th>\n",
       "      <th>...</th>\n",
       "      <th>Vagas Ofertadas</th>\n",
       "      <th>Vagas Regulares AC</th>\n",
       "      <th>Vagas Regulares l1</th>\n",
       "      <th>Vagas Regulares l10</th>\n",
       "      <th>Vagas Regulares l13</th>\n",
       "      <th>Vagas Regulares l14</th>\n",
       "      <th>Vagas Regulares l2</th>\n",
       "      <th>Vagas Regulares l5</th>\n",
       "      <th>Vagas Regulares l6</th>\n",
       "      <th>Vagas Regulares l9</th>\n",
       "    </tr>\n",
       "  </thead>\n",
       "  <tbody>\n",
       "    <tr>\n",
       "      <th>0</th>\n",
       "      <td>3182</td>\n",
       "      <td>800</td>\n",
       "      <td>Concluintes</td>\n",
       "      <td>17</td>\n",
       "      <td>BRANCA</td>\n",
       "      <td>66845709</td>\n",
       "      <td>13791</td>\n",
       "      <td>2016192</td>\n",
       "      <td>5201108</td>\n",
       "      <td>20/12/2018</td>\n",
       "      <td>...</td>\n",
       "      <td>0.0</td>\n",
       "      <td>0.0</td>\n",
       "      <td>0.0</td>\n",
       "      <td>0.0</td>\n",
       "      <td>0.0</td>\n",
       "      <td>0.0</td>\n",
       "      <td>0.0</td>\n",
       "      <td>0.0</td>\n",
       "      <td>0.0</td>\n",
       "      <td>0.0</td>\n",
       "    </tr>\n",
       "    <tr>\n",
       "      <th>1</th>\n",
       "      <td>3641</td>\n",
       "      <td>1200</td>\n",
       "      <td>Concluintes</td>\n",
       "      <td>279</td>\n",
       "      <td>BRANCA</td>\n",
       "      <td>66801823</td>\n",
       "      <td>3508</td>\n",
       "      <td>2016354</td>\n",
       "      <td>5211503</td>\n",
       "      <td>20/12/2018</td>\n",
       "      <td>...</td>\n",
       "      <td>0.0</td>\n",
       "      <td>0.0</td>\n",
       "      <td>0.0</td>\n",
       "      <td>0.0</td>\n",
       "      <td>0.0</td>\n",
       "      <td>0.0</td>\n",
       "      <td>0.0</td>\n",
       "      <td>0.0</td>\n",
       "      <td>0.0</td>\n",
       "      <td>0.0</td>\n",
       "    </tr>\n",
       "    <tr>\n",
       "      <th>2</th>\n",
       "      <td>5800</td>\n",
       "      <td>4000</td>\n",
       "      <td>Concluintes</td>\n",
       "      <td>523</td>\n",
       "      <td>BRANCA</td>\n",
       "      <td>64271041</td>\n",
       "      <td>2956</td>\n",
       "      <td>1859227</td>\n",
       "      <td>5221809</td>\n",
       "      <td>21/12/2018</td>\n",
       "      <td>...</td>\n",
       "      <td>40.0</td>\n",
       "      <td>20.0</td>\n",
       "      <td>3.0</td>\n",
       "      <td>1.0</td>\n",
       "      <td>1.0</td>\n",
       "      <td>1.0</td>\n",
       "      <td>5.0</td>\n",
       "      <td>3.0</td>\n",
       "      <td>5.0</td>\n",
       "      <td>1.0</td>\n",
       "    </tr>\n",
       "    <tr>\n",
       "      <th>3</th>\n",
       "      <td>4370</td>\n",
       "      <td>3600</td>\n",
       "      <td>Evadidos</td>\n",
       "      <td>523</td>\n",
       "      <td>BRANCA</td>\n",
       "      <td>44608044</td>\n",
       "      <td>2956</td>\n",
       "      <td>1206840</td>\n",
       "      <td>5221809</td>\n",
       "      <td>22/12/2016</td>\n",
       "      <td>...</td>\n",
       "      <td>40.0</td>\n",
       "      <td>20.0</td>\n",
       "      <td>3.0</td>\n",
       "      <td>1.0</td>\n",
       "      <td>1.0</td>\n",
       "      <td>1.0</td>\n",
       "      <td>5.0</td>\n",
       "      <td>3.0</td>\n",
       "      <td>5.0</td>\n",
       "      <td>1.0</td>\n",
       "    </tr>\n",
       "    <tr>\n",
       "      <th>4</th>\n",
       "      <td>5800</td>\n",
       "      <td>4000</td>\n",
       "      <td>Concluintes</td>\n",
       "      <td>523</td>\n",
       "      <td>BRANCA</td>\n",
       "      <td>59220389</td>\n",
       "      <td>2956</td>\n",
       "      <td>1859227</td>\n",
       "      <td>5221809</td>\n",
       "      <td>21/12/2018</td>\n",
       "      <td>...</td>\n",
       "      <td>40.0</td>\n",
       "      <td>20.0</td>\n",
       "      <td>3.0</td>\n",
       "      <td>1.0</td>\n",
       "      <td>1.0</td>\n",
       "      <td>1.0</td>\n",
       "      <td>5.0</td>\n",
       "      <td>3.0</td>\n",
       "      <td>5.0</td>\n",
       "      <td>1.0</td>\n",
       "    </tr>\n",
       "  </tbody>\n",
       "</table>\n",
       "<p>5 rows × 54 columns</p>\n",
       "</div>"
      ],
      "text/plain": [
       "   Carga Horaria  Carga Horaria Minima Categoria de Situação  Cod Unidade  \\\n",
       "0           3182                   800           Concluintes           17   \n",
       "1           3641                  1200           Concluintes          279   \n",
       "2           5800                  4000           Concluintes          523   \n",
       "3           4370                  3600              Evadidos          523   \n",
       "4           5800                  4000           Concluintes          523   \n",
       "\n",
       "  Cor/Raça  Código da Matrícula  Código da Unidade de Ensino - SISTEC  \\\n",
       "0   BRANCA             66845709                                 13791   \n",
       "1   BRANCA             66801823                                  3508   \n",
       "2   BRANCA             64271041                                  2956   \n",
       "3   BRANCA             44608044                                  2956   \n",
       "4   BRANCA             59220389                                  2956   \n",
       "\n",
       "   Código do Ciclo de Matrícula  Código do Município com DV  \\\n",
       "0                       2016192                     5201108   \n",
       "1                       2016354                     5211503   \n",
       "2                       1859227                     5221809   \n",
       "3                       1206840                     5221809   \n",
       "4                       1859227                     5221809   \n",
       "\n",
       "  Data de Fim Previsto do Ciclo  ... Vagas Ofertadas Vagas Regulares AC  \\\n",
       "0                    20/12/2018  ...             0.0                0.0   \n",
       "1                    20/12/2018  ...             0.0                0.0   \n",
       "2                    21/12/2018  ...            40.0               20.0   \n",
       "3                    22/12/2016  ...            40.0               20.0   \n",
       "4                    21/12/2018  ...            40.0               20.0   \n",
       "\n",
       "  Vagas Regulares l1 Vagas Regulares l10 Vagas Regulares l13  \\\n",
       "0                0.0                 0.0                 0.0   \n",
       "1                0.0                 0.0                 0.0   \n",
       "2                3.0                 1.0                 1.0   \n",
       "3                3.0                 1.0                 1.0   \n",
       "4                3.0                 1.0                 1.0   \n",
       "\n",
       "  Vagas Regulares l14  Vagas Regulares l2 Vagas Regulares l5  \\\n",
       "0                 0.0                 0.0                0.0   \n",
       "1                 0.0                 0.0                0.0   \n",
       "2                 1.0                 5.0                3.0   \n",
       "3                 1.0                 5.0                3.0   \n",
       "4                 1.0                 5.0                3.0   \n",
       "\n",
       "   Vagas Regulares l6 Vagas Regulares l9  \n",
       "0                 0.0                0.0  \n",
       "1                 0.0                0.0  \n",
       "2                 5.0                1.0  \n",
       "3                 5.0                1.0  \n",
       "4                 5.0                1.0  \n",
       "\n",
       "[5 rows x 54 columns]"
      ]
     },
     "execution_count": 18,
     "metadata": {},
     "output_type": "execute_result"
    }
   ],
   "source": [
    "# Leitura dos microdados 2020 - Data de atualização: 02/12/2021\n",
    "import pandas as pd\n",
    "\n",
    "df = pd.read_csv('./microdados_matriculas_2020.csv', sep=';')\n",
    "\n",
    "df.head()"
   ]
  },
  {
   "cell_type": "code",
   "execution_count": 19,
   "id": "ce9c2123",
   "metadata": {},
   "outputs": [
    {
     "data": {
      "text/plain": [
       "['Carga Horaria',\n",
       " 'Carga Horaria Minima',\n",
       " 'Categoria de Situação',\n",
       " 'Cod Unidade',\n",
       " 'Cor/Raça',\n",
       " 'Código da Matrícula',\n",
       " 'Código da Unidade de Ensino - SISTEC',\n",
       " 'Código do Ciclo de Matrícula',\n",
       " 'Código do Município com DV',\n",
       " 'Data de Fim Previsto do Ciclo',\n",
       " 'Data de Inicio do Ciclo',\n",
       " 'Data de Ocorrência da Matrícula',\n",
       " 'Eixo Tecnológico',\n",
       " 'Faixa Etária',\n",
       " 'Fator Esforco Curso',\n",
       " 'Fonte de Financiamento',\n",
       " 'Idade',\n",
       " 'Instituição',\n",
       " 'Matrícula 2019',\n",
       " 'Modalidade de Ensino',\n",
       " 'Mês de Ocorrência da Situação',\n",
       " 'Nome de Curso',\n",
       " 'Número de registros',\n",
       " 'Região',\n",
       " 'Renda Familiar',\n",
       " 'Sexo',\n",
       " 'Situação de Matrícula',\n",
       " 'Subeixo Tecnológico',\n",
       " 'Tipo de Curso',\n",
       " 'Tipo de Oferta',\n",
       " 'Tipo de Unidade',\n",
       " 'Tipo Oferta',\n",
       " 'Turno',\n",
       " 'UF',\n",
       " 'Unidade de Ensino',\n",
       " 'Vagas Extraordinárias AC',\n",
       " 'Vagas Extraordinárias l1',\n",
       " 'Vagas Extraordinárias l10',\n",
       " 'Vagas Extraordinárias l13',\n",
       " 'Vagas Extraordinárias l14',\n",
       " 'Vagas Extraordinárias l2',\n",
       " 'Vagas Extraordinárias l5',\n",
       " 'Vagas Extraordinárias l6',\n",
       " 'Vagas Extraordinárias l9',\n",
       " 'Vagas Ofertadas',\n",
       " 'Vagas Regulares AC',\n",
       " 'Vagas Regulares l1',\n",
       " 'Vagas Regulares l10',\n",
       " 'Vagas Regulares l13',\n",
       " 'Vagas Regulares l14',\n",
       " 'Vagas Regulares l2',\n",
       " 'Vagas Regulares l5',\n",
       " 'Vagas Regulares l6',\n",
       " 'Vagas Regulares l9']"
      ]
     },
     "execution_count": 19,
     "metadata": {},
     "output_type": "execute_result"
    }
   ],
   "source": [
    "df.columns.tolist()"
   ]
  },
  {
   "cell_type": "code",
   "execution_count": 21,
   "id": "83dfd8d6",
   "metadata": {},
   "outputs": [
    {
     "data": {
      "text/plain": [
       "(46349, 58)"
      ]
     },
     "execution_count": 21,
     "metadata": {},
     "output_type": "execute_result"
    }
   ],
   "source": [
    "# Filtrando dados pela instituição IFSUL\n",
    "df['dt_ocorrencia_matricula'] = pd.to_datetime(df['Data de Ocorrência da Matrícula'], format='%d/%m/%Y')\n",
    "df['ano_ocorrencia_matricula'] = df['dt_ocorrencia_matricula'].dt.year\n",
    "df['dt_fim_ciclo'] = pd.to_datetime(df['Data de Fim Previsto do Ciclo'], format='%d/%m/%Y')\n",
    "df['ano_fim_ciclo'] = df['dt_fim_ciclo'].dt.year\n",
    "\n",
    "qtd_matriculas = df[(df['Instituição'] == 'IFSUL')]\n",
    "qtd_matriculas.shape"
   ]
  },
  {
   "cell_type": "code",
   "execution_count": 73,
   "id": "f0b3c93f",
   "metadata": {},
   "outputs": [
    {
     "name": "stdout",
     "output_type": "stream",
     "text": [
      "A média de estudantes por curso é: 565.23\n",
      "O desvio padrão de estudantes por curso é: 1150.50\n",
      "A moda é: 171\n",
      "A mediana de estudantes por curso é: 211.00\n"
     ]
    }
   ],
   "source": [
    "# Quantidade de estudantes por curso do campus IFSUL\n",
    "qtd_estudantes = qtd_matriculas.groupby(['Nome de Curso'])['Código da Matrícula'].count()\n",
    "\n",
    "print(\"A média de estudantes por curso é: {:.2f}\".format(qtd_estudantes.mean()))\n",
    "print(\"O desvio padrão de estudantes por curso é: {:.2f}\".format(qtd_estudantes.std()))\n",
    "print(\"A moda é:\", int(qtd_estudantes.mode()))\n",
    "print(\"A mediana de estudantes por curso é: {:.2f}\".format(qtd_estudantes.median()))"
   ]
  },
  {
   "cell_type": "code",
   "execution_count": 150,
   "id": "11908a71",
   "metadata": {},
   "outputs": [
    {
     "name": "stdout",
     "output_type": "stream",
     "text": [
      "Quantidade total de cursos EJA e CTI: 8726\n"
     ]
    }
   ],
   "source": [
    "# Quantidade de cursos da EJA e do CTI\n",
    "filtro_cti = (qtd_matriculas['Tipo de Oferta'] == 'Integrado') \n",
    "filtro_eja = (qtd_matriculas['Tipo de Oferta'] == 'PROEJA - Integrado') \n",
    "\n",
    "qtd_cursos_cti = qtd_matriculas[filtro_cti].groupby(['Tipo de Oferta', 'Nome de Curso'])['Tipo de Oferta'].count().sum()\n",
    "qtd_cursos_eja = qtd_matriculas[filtro_eja].groupby(['Tipo de Oferta', 'Nome de Curso'])['Tipo de Oferta'].count().sum()\n",
    "                        \n",
    "total = qtd_cursos_cti + qtd_cursos_eja\n",
    "print(\"Quantidade total de cursos EJA e CTI:\", total)"
   ]
  },
  {
   "cell_type": "code",
   "execution_count": 221,
   "id": "ed45d5f3",
   "metadata": {},
   "outputs": [
    {
     "name": "stdout",
     "output_type": "stream",
     "text": [
      "Quantidade de estudantes evadidos em cursos superiores do campus IFSUL é: 97\n"
     ]
    }
   ],
   "source": [
    "# Quantidade de estudantes evadidos em cursos superiores do campus IFSUL\n",
    "filtro_evadidos_licenciatura = qtd_matriculas[\n",
    "            (qtd_matriculas['Situação de Matrícula'] == 'Abandono')\n",
    "            & (qtd_matriculas['Tipo de Curso'] == 'Licenciatura')\n",
    "        ]\n",
    "\n",
    "evadidos_licenciatura = filtro_evadidos_licenciatura.groupby(['Situação de Matrícula', 'Tipo de Curso'])['Situação de Matrícula'].count()\n",
    "\n",
    "\n",
    "filtro_evadidos_bacharelado = qtd_matriculas[\n",
    "            (qtd_matriculas['Situação de Matrícula'] == 'Abandono')\n",
    "            & (qtd_matriculas['Tipo de Curso'] == 'Bacharelado')\n",
    "        ]\n",
    "\n",
    "evadidos_bacharelado = filtro_evadidos_bacharelado.groupby(['Situação de Matrícula', 'Tipo de Curso'])['Situação de Matrícula'].count()\n",
    "\n",
    "total_evadidos = evadidos_licenciatura.sum() + evadidos_bacharelado.sum()\n",
    "\n",
    "print(\"Quantidade de estudantes evadidos em cursos superiores do campus IFSUL é:\", total_evadidos)"
   ]
  },
  {
   "cell_type": "code",
   "execution_count": 225,
   "id": "6b0fbf38",
   "metadata": {},
   "outputs": [
    {
     "data": {
      "text/plain": [
       "Tipo de Oferta      Cor/Raça     \n",
       "PROEJA - Integrado  AMARELA            2\n",
       "                    BRANCA           399\n",
       "                    INDÍGENA           1\n",
       "                    NÃO DECLARADA    477\n",
       "                    PARDA             83\n",
       "                    PRETA             66\n",
       "Name: Tipo de Oferta, dtype: int64"
      ]
     },
     "execution_count": 225,
     "metadata": {},
     "output_type": "execute_result"
    }
   ],
   "source": [
    "# Totalização da classificação racial para cursos EJA\n",
    "filtro = qtd_matriculas[\n",
    "    (qtd_matriculas['Tipo de Oferta'] == 'PROEJA - Integrado')\n",
    "]\n",
    "\n",
    "filtro.groupby(['Tipo de Oferta', 'Cor/Raça'])['Tipo de Oferta'].count()"
   ]
  },
  {
   "cell_type": "code",
   "execution_count": 226,
   "id": "0955b091",
   "metadata": {},
   "outputs": [
    {
     "data": {
      "text/plain": [
       "Tipo de Oferta      Renda Familiar\n",
       "Integrado           0,5<RFP<=1         945\n",
       "                    0<RFP<=0,5         557\n",
       "                    1,5<RFP<=2,5       588\n",
       "                    1<RFP<=1,5         749\n",
       "                    2,5<RFP<=3,5       259\n",
       "                    Não declarada     4298\n",
       "                    RFP>3,5            302\n",
       "PROEJA - Integrado  0,5<RFP<=1         142\n",
       "                    0<RFP<=0,5         151\n",
       "                    1,5<RFP<=2,5        53\n",
       "                    1<RFP<=1,5          76\n",
       "                    2,5<RFP<=3,5        23\n",
       "                    Não declarada      557\n",
       "                    RFP>3,5             26\n",
       "Name: Renda Familiar, dtype: int64"
      ]
     },
     "execution_count": 226,
     "metadata": {},
     "output_type": "execute_result"
    }
   ],
   "source": [
    "# Faixa de renda per capita familiar do aluno, declarada na PNP pela instituição\n",
    "filtro = qtd_matriculas[\n",
    "    (qtd_matriculas['Tipo de Oferta'] != 'Não se aplica')\n",
    "    & (qtd_matriculas['Tipo de Oferta'] != 'Concomitante')\n",
    "    & (qtd_matriculas['Tipo de Oferta'] != 'Subsequente')\n",
    "]\n",
    "\n",
    "filtro_tipo_oferta = filtro.groupby(['Tipo de Oferta','Renda Familiar'])['Renda Familiar'].count()\n",
    "filtro_tipo_oferta\n"
   ]
  },
  {
   "cell_type": "code",
   "execution_count": 239,
   "id": "c7f1cb60",
   "metadata": {},
   "outputs": [
    {
     "name": "stdout",
     "output_type": "stream",
     "text": [
      "Quantidade de matrículas no curso Análise e Desenvolvimento de Sistemas: 369\n"
     ]
    }
   ],
   "source": [
    "# Quantidade de matrículas no curso Análise e Desenvolvimento de Sistemas\n",
    "f = qtd_matriculas[\n",
    "    (qtd_matriculas['Nome de Curso']) == 'Análise e Desenvolvimento de Sistemas'\n",
    "]\n",
    "\n",
    "qtd = f.groupby(['Nome de Curso', 'Instituição'])['Nome de Curso'].count().sum()\n",
    "print('Quantidade de matrículas no curso Análise e Desenvolvimento de Sistemas:', qtd)"
   ]
  },
  {
   "cell_type": "code",
   "execution_count": 272,
   "id": "e9df5ee8",
   "metadata": {},
   "outputs": [
    {
     "name": "stdout",
     "output_type": "stream",
     "text": [
      "A média de matriculados é: 331.00\n",
      "O desvio padrão de matriculados é: 317.35\n",
      "A mediana de matriculados é: 225.00\n"
     ]
    }
   ],
   "source": [
    "# Média, Desvio padrão, Mediana das quantidades de matriculados em cursos do tipo Técnico\n",
    "filtro_cursos_técnicos = qtd_matriculas[(qtd_matriculas['Tipo de Curso'] == 'Técnico')]\n",
    "\n",
    "cursos = filtro_cursos_técnicos.groupby(['Nome de Curso'])['Nome de Curso'].count()\n",
    "\n",
    "print(\"A média de matriculados é: {:.2f}\".format(cursos.mean()))\n",
    "print(\"O desvio padrão de matriculados é: {:.2f}\".format(cursos.std()))\n",
    "print(\"A mediana de matriculados é: {:.2f}\".format(cursos.median()))"
   ]
  },
  {
   "cell_type": "code",
   "execution_count": 276,
   "id": "9e4158a0",
   "metadata": {},
   "outputs": [],
   "source": [
    "# Filtros classificação racial CTI e EJA - IFSUL\n",
    "f_integrado = qtd_matriculas[(qtd_matriculas['Tipo Oferta'] == 'Integrado')]\n",
    "qtd_matriculas_integrado = f_integrado.groupby(['Tipo Oferta', 'Situação de Matrícula'])['Tipo Oferta'].count().sum()"
   ]
  },
  {
   "cell_type": "code",
   "execution_count": 280,
   "id": "43ef7f50",
   "metadata": {},
   "outputs": [
    {
     "name": "stdout",
     "output_type": "stream",
     "text": [
      "Matriculas de classificação racial amarela 18\n"
     ]
    }
   ],
   "source": [
    "# Filtro classificação racial - CTI - amarela\n",
    "filtro_integrado_amarela = f_integrado[(f_integrado['Cor/Raça']=='AMARELA')]\n",
    "amarela = filtro_integrado_amarela.groupby(['Tipo Oferta','Cor/Raça'])['Cor/Raça'].count().sum()\n",
    "print(\"Matriculas de classificação racial amarela\", amarela)"
   ]
  },
  {
   "cell_type": "code",
   "execution_count": 281,
   "id": "36da8574",
   "metadata": {},
   "outputs": [
    {
     "name": "stdout",
     "output_type": "stream",
     "text": [
      "Matriculas de classificação racial indigena 13\n"
     ]
    }
   ],
   "source": [
    "# Filtro classificação racial - CTI - indígena\n",
    "filtro_integrado_indigena = f_integrado[(f_integrado['Cor/Raça']=='INDÍGENA')]\n",
    "indigena = filtro_integrado_indigena.groupby(['Tipo Oferta','Cor/Raça'])['Cor/Raça'].count().sum()\n",
    "print(\"Matriculas de classificação racial indigena\", indigena)"
   ]
  },
  {
   "cell_type": "code",
   "execution_count": 284,
   "id": "b0b5b7b7",
   "metadata": {},
   "outputs": [
    {
     "name": "stdout",
     "output_type": "stream",
     "text": [
      "Matriculas de classificação racial não declarada 3331\n"
     ]
    }
   ],
   "source": [
    "# Filtro classificação racial - CTI - não declarada\n",
    "filtro_integrado_nao_declarada = f_integrado[(f_integrado['Cor/Raça']=='NÃO DECLARADA')]\n",
    "nao_declarada = filtro_integrado_nao_declarada.groupby(['Tipo Oferta','Cor/Raça'])['Cor/Raça'].count().sum()\n",
    "print(\"Matriculas de classificação racial não declarada\", nao_declarada)"
   ]
  },
  {
   "cell_type": "code",
   "execution_count": null,
   "id": "cbd262e0",
   "metadata": {},
   "outputs": [],
   "source": []
  }
 ],
 "metadata": {
  "kernelspec": {
   "display_name": "Python 3 (ipykernel)",
   "language": "python",
   "name": "python3"
  },
  "language_info": {
   "codemirror_mode": {
    "name": "ipython",
    "version": 3
   },
   "file_extension": ".py",
   "mimetype": "text/x-python",
   "name": "python",
   "nbconvert_exporter": "python",
   "pygments_lexer": "ipython3",
   "version": "3.9.12"
  }
 },
 "nbformat": 4,
 "nbformat_minor": 5
}
